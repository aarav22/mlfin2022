{
  "cells": [
    {
      "cell_type": "markdown",
      "metadata": {
        "id": "view-in-github",
        "colab_type": "text"
      },
      "source": [
        "<a href=\"https://colab.research.google.com/github/gmshroff/mlfin2022/blob/main/basicML/nb0.ipynb\" target=\"_parent\"><img src=\"https://colab.research.google.com/assets/colab-badge.svg\" alt=\"Open In Colab\"/></a>"
      ]
    },
    {
      "cell_type": "markdown",
      "metadata": {
        "id": "lxvqs_W_oNMc"
      },
      "source": [
        "## TRAINING DEEP NEURAL NETWORKS"
      ]
    },
    {
      "cell_type": "code",
      "execution_count": null,
      "metadata": {
        "id": "pdDIwg1UoNMd"
      },
      "outputs": [],
      "source": [
        "!pip install import_ipynb --quiet"
      ]
    },
    {
      "cell_type": "code",
      "execution_count": null,
      "metadata": {
        "id": "yeF_-S1GoNMe"
      },
      "outputs": [],
      "source": [
        "!git clone https://github.com/gmshroff/mlfin2022.git"
      ]
    },
    {
      "cell_type": "code",
      "source": [
        "%cd mlfin2022/basicML"
      ],
      "metadata": {
        "id": "7OSFJ4rjoWkT"
      },
      "execution_count": null,
      "outputs": []
    },
    {
      "cell_type": "code",
      "execution_count": null,
      "metadata": {
        "id": "AM-wJzzHoNMf"
      },
      "outputs": [],
      "source": [
        "!rm models.ipynb\n",
        "from google.colab import files\n",
        "files.upload()\n",
        "#upload your own models.ipynb"
      ]
    },
    {
      "cell_type": "code",
      "execution_count": null,
      "metadata": {
        "id": "P0PPIqnLoNMg"
      },
      "outputs": [],
      "source": [
        "import import_ipynb\n",
        "import utils\n",
        "#HW 1 - write code for models in models.ipynb\n",
        "import models\n",
        "from IPython import display\n",
        "import torch\n",
        "from sklearn.manifold import TSNE\n",
        "from matplotlib import pyplot as plt\n",
        "import pickle\n",
        "import numpy as np"
      ]
    },
    {
      "cell_type": "code",
      "execution_count": null,
      "metadata": {
        "id": "tt60Ai7LoNMh"
      },
      "outputs": [],
      "source": [
        "from course_data import FeedData, TsDS, ImageData, MyDS"
      ]
    },
    {
      "cell_type": "markdown",
      "metadata": {
        "id": "QQk-BG1yoNMh"
      },
      "source": [
        "Random data in $\\mathcal{R}^N$ in $C$ clusters/classes."
      ]
    },
    {
      "cell_type": "code",
      "execution_count": null,
      "metadata": {
        "id": "_roGL6kioNMi"
      },
      "outputs": [],
      "source": [
        "#Generate data - euclidean\n",
        "train_ds, test_ds, dloader = utils.euclideanDataset(n_samples=10000,n_features=20,n_classes=10,batch_size=32)"
      ]
    },
    {
      "cell_type": "markdown",
      "metadata": {
        "id": "ATgXuMlqoNMj"
      },
      "source": [
        "Using random data in $\\mathcal{R}^4$ as above to generate sin wave mixures; each class has different mean frequencies and amplitues."
      ]
    },
    {
      "cell_type": "markdown",
      "metadata": {
        "id": "S29gmA8voNMj"
      },
      "source": [
        "Project data down to a 2-D space for visualiation."
      ]
    },
    {
      "cell_type": "code",
      "execution_count": null,
      "metadata": {
        "id": "nPdnA8s8oNMk"
      },
      "outputs": [],
      "source": [
        "tsne = TSNE()\n",
        "X_2d = tsne.fit_transform(train_ds.samples[0:100])\n",
        "colors=[\"red\",\"green\",\"blue\",\"yellow\",\"pink\",\"black\",\"orange\",\"purple\",\"beige\",\"brown\"]\n",
        "labcol=lambda i: colours[i]\n",
        "plt.scatter(X_2d[:,0],X_2d[:,1],c=[colors[l] for l in train_ds.labels[0:100]])\n",
        "plt.show()"
      ]
    },
    {
      "cell_type": "markdown",
      "metadata": {
        "id": "8NjgVuuToNMk"
      },
      "source": [
        "Time series data"
      ]
    },
    {
      "cell_type": "code",
      "execution_count": null,
      "metadata": {
        "id": "aulh4WnVoNMl"
      },
      "outputs": [],
      "source": [
        "#Generate data - sinusoidal mix\n",
        "train_ds, test_ds, dloader = utils.sinDataset(n_samples=100,length=20,n_classes=5,batch_size=1)"
      ]
    },
    {
      "cell_type": "markdown",
      "metadata": {
        "id": "S431I8tcoNMl"
      },
      "source": [
        "Clear previously unzipped data"
      ]
    },
    {
      "cell_type": "code",
      "execution_count": null,
      "metadata": {
        "id": "ekBo4WFkoNMl"
      },
      "outputs": [],
      "source": [
        "# Remove unzipped data\n",
        "!rm *.pickle"
      ]
    },
    {
      "cell_type": "markdown",
      "metadata": {
        "id": "HM9qE7rhoNMm"
      },
      "source": [
        "The well-known MNIST data of handwritten characters."
      ]
    },
    {
      "cell_type": "code",
      "execution_count": null,
      "metadata": {
        "id": "5Y0UxjBLoNMm"
      },
      "outputs": [],
      "source": [
        "train_ds, test_ds, dloader = utils.mnist_data(frac=0.25,download=True)"
      ]
    },
    {
      "cell_type": "code",
      "execution_count": null,
      "metadata": {
        "tags": [],
        "id": "LZymJnvEoNMm"
      },
      "outputs": [],
      "source": [
        "plt.imshow(train_ds.samples.reshape(15000,28,28)[10])\n",
        "plt.show()"
      ]
    },
    {
      "cell_type": "code",
      "execution_count": null,
      "metadata": {
        "id": "hdnZZ-Y9oNMm"
      },
      "outputs": [],
      "source": [
        "net(train_ds.samples[10].unsqueeze(0))"
      ]
    },
    {
      "cell_type": "markdown",
      "metadata": {
        "id": "10wIc9nyoNMm"
      },
      "source": [
        "Simple MLP"
      ]
    },
    {
      "cell_type": "code",
      "execution_count": null,
      "metadata": {
        "id": "a3QdeDzAoNMn"
      },
      "outputs": [],
      "source": [
        "# Define an MLP network. Note that input dimension has to be data dimension. For classification\n",
        "# final dimension has to be number of classes; for regression one.\n",
        "#torch.manual_seed(10)\n",
        "#net = models.MLP(dims=[20,128,64,10])\n",
        "#net = models.MLP(dims=[400,128,64,74])\n",
        "net = models.MLP(dims=[784,128,64,10])\n",
        "#net = models.MLP(dims=[20,128,64,5])"
      ]
    },
    {
      "cell_type": "code",
      "execution_count": null,
      "metadata": {
        "id": "Qu381dG3oNMn"
      },
      "outputs": [],
      "source": [
        "#2DCNN - only for image data\n",
        "#print('2DCNN')\n",
        "net = models.TwoDimCNN(sample_dim=784, input_size=1,hidden_size=32,output_size=74,lr=1e-3)"
      ]
    },
    {
      "cell_type": "code",
      "execution_count": null,
      "metadata": {
        "tags": [],
        "id": "QJt5V3AloNMn"
      },
      "outputs": [],
      "source": [
        "# Train the network; note that network is trained in place so repeated calls further train it.\n",
        "net,losses,accs=models.Train(net,dloader,epochs=5,verbose=True)"
      ]
    },
    {
      "cell_type": "code",
      "execution_count": null,
      "metadata": {
        "id": "izQ7xuZjoNMn"
      },
      "outputs": [],
      "source": [
        "#Training accuracy.\n",
        "models.accuracy(net,train_ds.samples,train_ds.labels,verbose=True)"
      ]
    },
    {
      "cell_type": "code",
      "execution_count": null,
      "metadata": {
        "id": "IiXNzlgXoNMo"
      },
      "outputs": [],
      "source": [
        "#Test accuracy.\n",
        "models.accuracy(net,test_ds.samples,test_ds.labels,verbose=True)"
      ]
    },
    {
      "cell_type": "markdown",
      "metadata": {
        "id": "F3-2C36KoNMo"
      },
      "source": [
        "Financial time series"
      ]
    },
    {
      "cell_type": "code",
      "execution_count": null,
      "metadata": {
        "id": "-g4mSg_CoNMo"
      },
      "outputs": [],
      "source": [
        "!unzip feedDataTrain.pickle.zip"
      ]
    },
    {
      "cell_type": "code",
      "execution_count": null,
      "metadata": {
        "id": "et05UHqroNMo"
      },
      "outputs": [],
      "source": [
        "!unzip feedDataTest.pickle.zip"
      ]
    },
    {
      "cell_type": "code",
      "execution_count": null,
      "metadata": {
        "id": "QhFkQzjioNMo"
      },
      "outputs": [],
      "source": [
        "with open('./feedDataTrain.pickle','rb') as f: feedDataMetaTrain=pickle.load(f)"
      ]
    },
    {
      "cell_type": "code",
      "execution_count": null,
      "metadata": {
        "id": "9wNVBAcjoNMo"
      },
      "outputs": [],
      "source": [
        "with open('./feedDataTest.pickle','rb') as f: feedDataMetaTest=pickle.load(f)"
      ]
    },
    {
      "cell_type": "code",
      "execution_count": null,
      "metadata": {
        "id": "OTLlpiltoNMo"
      },
      "outputs": [],
      "source": [
        "train_ds=feedDataMetaTrain.train_ds\n",
        "test_ds=feedDataMetaTest.train_ds"
      ]
    },
    {
      "cell_type": "code",
      "execution_count": null,
      "metadata": {
        "id": "52Mt41guoNMo"
      },
      "outputs": [],
      "source": [
        "train_ds.samples[5].shape"
      ]
    },
    {
      "cell_type": "markdown",
      "metadata": {
        "id": "IaQPYkhpoNMo"
      },
      "source": [
        "Recurrent neural network."
      ]
    },
    {
      "cell_type": "code",
      "execution_count": null,
      "metadata": {
        "id": "3iEgaDzGoNMo"
      },
      "outputs": [],
      "source": [
        "# Define an RNN to process a sequence; default is 1-D where input can be (batch,seq_vals) \n",
        "# else input will need to be given\n",
        "# with an extra dimension and input will be (batch,seq,features)\n",
        "net = models.SimpleRNN(input_size=149,hidden_size=32,output_size=5,lr=1e-3)"
      ]
    },
    {
      "cell_type": "code",
      "execution_count": null,
      "metadata": {
        "id": "fi2t_oBPoNMp"
      },
      "outputs": [],
      "source": [
        "#net = models.SimpleLSTM(input_size=1,hidden_size=32,output_size=5,lr=1e-3)\n",
        "net = models.SimpleLSTM(input_size=149,hidden_size=64,output_size=3,lr=1e-3)"
      ]
    },
    {
      "cell_type": "code",
      "execution_count": null,
      "metadata": {
        "id": "TooPgpZ9oNMp"
      },
      "outputs": [],
      "source": [
        "#1DCNN\n",
        "#print('1DCNN')\n",
        "net = models.OneDimCNN(input_size=149,hidden_size=256,output_size=5,lr=1e-3)"
      ]
    },
    {
      "cell_type": "code",
      "execution_count": null,
      "metadata": {
        "id": "SCopybw2oNMp"
      },
      "outputs": [],
      "source": [
        "#Transformers\n",
        "#print('Transformers')\n",
        "net = models.Transformer(input_size=149,hidden_size=256,output_size=5,lr=1e-3)"
      ]
    },
    {
      "cell_type": "markdown",
      "metadata": {
        "id": "AhGEZ9ieoNMp"
      },
      "source": [
        "Train the network"
      ]
    },
    {
      "cell_type": "code",
      "execution_count": null,
      "metadata": {
        "id": "qrQvV7QvoNMp"
      },
      "outputs": [],
      "source": [
        "net,losses,accs=models.Train(net,train_ds,epochs=5,verbose=True)"
      ]
    },
    {
      "cell_type": "markdown",
      "metadata": {
        "id": "q2pcrIVToNMp"
      },
      "source": [
        "Accuracy on training set."
      ]
    },
    {
      "cell_type": "code",
      "execution_count": null,
      "metadata": {
        "id": "Sd6dGU52oNMq"
      },
      "outputs": [],
      "source": [
        "models.accuracy_variable(net,train_ds)"
      ]
    },
    {
      "cell_type": "markdown",
      "metadata": {
        "id": "1B9bmqekoNMq"
      },
      "source": [
        "Accuracy on test set."
      ]
    },
    {
      "cell_type": "code",
      "execution_count": null,
      "metadata": {
        "id": "u-vRHyXqoNMq"
      },
      "outputs": [],
      "source": [
        "models.accuracy_variable(net,test_ds)"
      ]
    },
    {
      "cell_type": "markdown",
      "metadata": {
        "id": "fPJ9jNnToNMq"
      },
      "source": [
        "Exploration"
      ]
    },
    {
      "cell_type": "code",
      "execution_count": null,
      "metadata": {
        "id": "TUoQ2a3soNMq"
      },
      "outputs": [],
      "source": [
        "for s,l in zip(train_ds.samples,train_ds.labels):\n",
        "    if l==1: plt.plot(s[0,:,1])\n",
        "plt.show()"
      ]
    },
    {
      "cell_type": "code",
      "execution_count": null,
      "metadata": {
        "id": "_VGX4gHsoNMq"
      },
      "outputs": [],
      "source": [
        "feedDataMetaTrain.longerFeeds[0]"
      ]
    },
    {
      "cell_type": "code",
      "execution_count": null,
      "metadata": {
        "id": "1ZLsboTzoNMq"
      },
      "outputs": [],
      "source": [
        ""
      ]
    }
  ],
  "metadata": {
    "kernelspec": {
      "display_name": "Python 3 (ipykernel)",
      "language": "python",
      "name": "python3"
    },
    "language_info": {
      "codemirror_mode": {
        "name": "ipython",
        "version": 3
      },
      "file_extension": ".py",
      "mimetype": "text/x-python",
      "name": "python",
      "nbconvert_exporter": "python",
      "pygments_lexer": "ipython3",
      "version": "3.8.12"
    },
    "colab": {
      "name": "nb0.ipynb",
      "provenance": [],
      "include_colab_link": true
    }
  },
  "nbformat": 4,
  "nbformat_minor": 0
}