{
 "cells": [
  {
   "cell_type": "code",
   "execution_count": 1,
   "metadata": {},
   "outputs": [],
   "source": [
    "import torch\n",
    "import torch.nn as nn\n",
    "from sklearn.metrics import roc_auc_score"
   ]
  },
  {
   "cell_type": "code",
   "execution_count": 18,
   "metadata": {},
   "outputs": [],
   "source": [
    "class SoftAUC():\n",
    "    def __init__(self,scale=10.0):\n",
    "        self.scale=scale\n",
    "    def loss(self,preds,labels):\n",
    "        preds=torch.exp(preds[:,1])\n",
    "        scale=self.scale\n",
    "        n=labels.shape[0]\n",
    "        n2=n*n\n",
    "        np=n*(n-1)/2\n",
    "        relu=torch.nn.ReLU()\n",
    "        labels=torch.tensor(labels,dtype=torch.float).unsqueeze(-1)\n",
    "        preds=preds.unsqueeze(-1)\n",
    "        e=torch.ones((n,1),dtype=torch.float)\n",
    "        yr=torch.matmul(e,labels.t())\n",
    "        yc=torch.matmul(labels,e.t())\n",
    "        pr=torch.matmul(e,preds.t())\n",
    "        pc=torch.matmul(preds,e.t())\n",
    "        print(labels.t())\n",
    "        D=torch.tanh((yr-yc))*torch.tanh(pr-pc)\n",
    "        #C=scale*D\n",
    "        #C1=C+abs(C)\n",
    "        #CI=torch.sum(C)/torch.sum(abs(C))\n",
    "        NA=torch.tanh(yr-yc)\n",
    "        PNA=torch.tanh(pr-pc)\n",
    "        CNA=torch.tanh(scale*relu(NA*PNA))\n",
    "        A=torch.ones((n,n))-torch.abs(NA)\n",
    "        PA=torch.ones((n,n))-torch.abs(PNA)\n",
    "        CA=torch.tanh(scale*relu(A*PA))\n",
    "        #print('NA',NA)\n",
    "        #print('PNA',PNA)\n",
    "        #print('CNA',CNA)\n",
    "        #print('A:',A)\n",
    "        #print('PA:',PA)\n",
    "        #print('CA',CA)\n",
    "        SA=torch.sum(CA+CNA)/n2\n",
    "        return -SA"
   ]
  },
  {
   "cell_type": "markdown",
   "metadata": {},
   "source": [
    "All ones: $e=[1,1,\\ldots,1]^T \\in \\mathbb{R}^{n\\times 1}$\n",
    "\n",
    "Broadcast vector $x \\in \\mathbb{R}^{n\\times 1}$ along rows/columns: $x_r = e x^T$, $x_c = x e^T$ \n",
    "\n",
    "Labels not agreeing: $Y_{NA}=\\tanh(y_r - y_c)$ (non-zero: \\~ 1/-1 where labels don't agree)\n",
    "\n",
    "Predictions not agreeing: $P_{NA}=\\tanh(p_r - p_c)$ (larger pos/neg where predictions don't agree.\n",
    "\n",
    "Labels not agreeing and predictions also not agreeing: $C_{NA}=\\tanh(\\sigma \\mathtt{ReLU}(Y_{NA}P_{NA}))$\n",
    "\n",
    "Labels agreeing: $Y_A = 1-\\lvert Y_{NA} \\rvert$ (1 where labels agree)\n",
    "\n",
    "Predictions agreeing $P_{A} = 1 - \\lvert P_{NA} \\rvert$ (large pos where predictions agree)\n",
    "\n",
    "Labels agreeing and predictions also agreeing: $C_{A} = \\tanh(\\sigma\\mathtt{ReLU}(Y_A P_A))$\n",
    "\n",
    "Soft Concordance Index = $C = C_A + C_{NA}$\n",
    "\n",
    "Use loss (SoftAUC) as $-C$"
   ]
  },
  {
   "cell_type": "code",
   "execution_count": 3,
   "metadata": {},
   "outputs": [],
   "source": [
    "class WeightedLoss():\n",
    "    def __init__(self,lossfn1,lossfn2,a=1,b=1):\n",
    "        self.lossfn1=lossfn1\n",
    "        self.lossfn2=lossfn2\n",
    "        self.a=a\n",
    "        self.b=b\n",
    "    def loss(self,preds,labels):\n",
    "        a=self.a\n",
    "        b=self.b\n",
    "        return (a*self.lossfn1(preds,labels)+b*self.lossfn2(preds,labels))/(a+b)"
   ]
  },
  {
   "cell_type": "raw",
   "metadata": {},
   "source": [
    "labels=torch.tensor([1,1,1,0,0,0])\n",
    "preds=torch.tensor([[0.25,.75],[.6,.4],[.7,.3],[.8,.2],[.55,.45],[.7,.3]])\n",
    "lpreds=torch.log(preds)"
   ]
  },
  {
   "cell_type": "raw",
   "metadata": {},
   "source": [
    "torch.ones(5)"
   ]
  },
  {
   "cell_type": "raw",
   "metadata": {},
   "source": [
    "lossfn=nn.NLLLoss()"
   ]
  },
  {
   "cell_type": "raw",
   "metadata": {},
   "source": [
    "lossfn(lpreds,labels)"
   ]
  },
  {
   "cell_type": "raw",
   "metadata": {},
   "source": [
    "softAUC = SoftAUC(scale=10.)"
   ]
  },
  {
   "cell_type": "raw",
   "metadata": {},
   "source": [
    "softAUC.loss(lpreds,labels)"
   ]
  },
  {
   "cell_type": "raw",
   "metadata": {},
   "source": [
    "wLoss=WeightedLoss(lossfn,softAUC.loss)"
   ]
  },
  {
   "cell_type": "raw",
   "metadata": {},
   "source": [
    "wLoss.loss(lpreds,labels)"
   ]
  },
  {
   "cell_type": "raw",
   "metadata": {},
   "source": [
    "roc_auc_score(labels.detach().numpy(),preds.detach().numpy()[:,1])"
   ]
  },
  {
   "cell_type": "raw",
   "metadata": {},
   "source": [
    "labels1=torch.tensor([1,1,0,0,0,0])\n",
    "preds1=torch.tensor([[.25,.75],[.67,.33],[.56,.44],[.63,.37],[.55,.45],[.7,.3]])\n",
    "lpreds1=torch.log(preds1)"
   ]
  },
  {
   "cell_type": "raw",
   "metadata": {},
   "source": [
    "lossfn(lpreds1,labels1)"
   ]
  },
  {
   "cell_type": "raw",
   "metadata": {},
   "source": [
    "roc_auc_score(labels1.detach().numpy(),preds1.detach().numpy()[:,1])"
   ]
  },
  {
   "cell_type": "raw",
   "metadata": {},
   "source": [
    "softAUC.loss(lpreds1,labels1)"
   ]
  },
  {
   "cell_type": "code",
   "execution_count": null,
   "metadata": {},
   "outputs": [],
   "source": []
  },
  {
   "cell_type": "code",
   "execution_count": null,
   "metadata": {},
   "outputs": [],
   "source": []
  },
  {
   "cell_type": "code",
   "execution_count": null,
   "metadata": {},
   "outputs": [],
   "source": []
  }
 ],
 "metadata": {
  "kernelspec": {
   "display_name": "Python 3 (ipykernel)",
   "language": "python",
   "name": "python3"
  },
  "language_info": {
   "codemirror_mode": {
    "name": "ipython",
    "version": 3
   },
   "file_extension": ".py",
   "mimetype": "text/x-python",
   "name": "python",
   "nbconvert_exporter": "python",
   "pygments_lexer": "ipython3",
   "version": "3.8.12"
  }
 },
 "nbformat": 4,
 "nbformat_minor": 4
}
