{
 "cells": [
  {
   "cell_type": "markdown",
   "metadata": {},
   "source": [
    "## Machine-learning on Options"
   ]
  },
  {
   "cell_type": "code",
   "execution_count": null,
   "metadata": {},
   "outputs": [],
   "source": [
    "#!pip install import_ipynb --quiet"
   ]
  },
  {
   "cell_type": "code",
   "execution_count": null,
   "metadata": {},
   "outputs": [],
   "source": [
    "#!git clone https://github.com/gmshroff/mlfin2022.git"
   ]
  },
  {
   "cell_type": "code",
   "execution_count": null,
   "metadata": {},
   "outputs": [],
   "source": [
    "# !rm models.ipynb\n",
    "# from google.colab import files\n",
    "# files.upload()\n",
    "# #upload your own models.ipynb"
   ]
  },
  {
   "cell_type": "code",
   "execution_count": null,
   "metadata": {},
   "outputs": [],
   "source": [
    "import pandas as pd\n",
    "import import_ipynb\n",
    "import utils\n",
    "import models\n",
    "import options_data\n",
    "import optutils"
   ]
  },
  {
   "cell_type": "code",
   "execution_count": null,
   "metadata": {},
   "outputs": [],
   "source": [
    "from IPython import display\n",
    "import torch\n",
    "from sklearn.manifold import TSNE\n",
    "from matplotlib import pyplot as plt\n",
    "from IPython import display\n",
    "import numpy as np\n",
    "from sklearn.metrics import roc_auc_score, roc_curve, precision_recall_curve\n",
    "from sklearn.metrics import auc\n",
    "import pickle"
   ]
  },
  {
   "cell_type": "markdown",
   "metadata": {},
   "source": [
    "## Loss Function"
   ]
  },
  {
   "cell_type": "code",
   "execution_count": null,
   "metadata": {},
   "outputs": [],
   "source": [
    "lossfn=torch.nn.NLLLoss()"
   ]
  },
  {
   "cell_type": "code",
   "execution_count": null,
   "metadata": {},
   "outputs": [],
   "source": [
    "nll=torch.nn.NLLLoss(weight=torch.tensor([0.1,0.9]))\n",
    "softAUC=optutils.SoftAUC(scale=10.)\n",
    "WLoss=optutils.WeightedLoss(nll,softAUC.loss,a=1,b=100)\n",
    "lossfn=WLoss.loss"
   ]
  },
  {
   "cell_type": "markdown",
   "metadata": {},
   "source": [
    "# Get Options Data"
   ]
  },
  {
   "cell_type": "code",
   "execution_count": null,
   "metadata": {
    "tags": [
     "parameters"
    ]
   },
   "outputs": [],
   "source": [
    "OPTYPE='CE'"
   ]
  },
  {
   "cell_type": "markdown",
   "metadata": {},
   "source": [
    "Pre-loaded meta-learning datasets:"
   ]
  },
  {
   "cell_type": "code",
   "execution_count": null,
   "metadata": {},
   "outputs": [],
   "source": [
    "with open('/Users/a112956/DataLocal/meta-options/opDS'+OPTYPE+'_train2017_test2019.pickle','rb') as fh:\n",
    "    opDS=pickle.load(fh)"
   ]
  },
  {
   "cell_type": "code",
   "execution_count": null,
   "metadata": {},
   "outputs": [],
   "source": [
    "len(opDS.meta_train_tasks), len(opDS.meta_test_tasks),"
   ]
  },
  {
   "cell_type": "markdown",
   "metadata": {},
   "source": [
    "## Standard MLP "
   ]
  },
  {
   "cell_type": "markdown",
   "metadata": {},
   "source": [
    "Define MLP model and create normal train-test data"
   ]
  },
  {
   "cell_type": "code",
   "execution_count": null,
   "metadata": {},
   "outputs": [],
   "source": [
    "net0 = models.MLP(dims=[148,256,32,2])"
   ]
  },
  {
   "cell_type": "code",
   "execution_count": null,
   "metadata": {},
   "outputs": [],
   "source": [
    "train_loader,trainDS,testDS=opDS.normal_train_test(minDate='01-Jan-2017',\n",
    "                                                  maxTrainDate='31-Dec-2018',\n",
    "                                                   minTestDate='01-Mar-2019',\n",
    "                                                  maxTestDate='31-Dec-2019')"
   ]
  },
  {
   "cell_type": "code",
   "execution_count": null,
   "metadata": {},
   "outputs": [],
   "source": [
    "print(trainDS.samples.shape,testDS.samples.shape[0])"
   ]
  },
  {
   "cell_type": "markdown",
   "metadata": {},
   "source": [
    "Load saved MLP model"
   ]
  },
  {
   "cell_type": "code",
   "execution_count": null,
   "metadata": {},
   "outputs": [],
   "source": [
    "net0.load_state_dict(torch.load('./savedmodels/MLP2017'+OPTYPE+'.pth'))"
   ]
  },
  {
   "cell_type": "markdown",
   "metadata": {},
   "source": [
    "Train MLP model"
   ]
  },
  {
   "cell_type": "code",
   "execution_count": null,
   "metadata": {},
   "outputs": [],
   "source": [
    "net0,losses,accs=models.Train(net0,train_loader,epochs=20,verbose=True,Loss=lossfn)"
   ]
  },
  {
   "cell_type": "code",
   "execution_count": null,
   "metadata": {},
   "outputs": [],
   "source": [
    "torch.save(net0.state_dict(),'./savedmodels/MLP2017'+OPTYPE+'.pth')"
   ]
  },
  {
   "cell_type": "code",
   "execution_count": null,
   "metadata": {},
   "outputs": [],
   "source": [
    "models.accuracy(net0,testDS.samples,testDS.labels,verbose=True)"
   ]
  },
  {
   "cell_type": "code",
   "execution_count": null,
   "metadata": {},
   "outputs": [],
   "source": [
    "labels=testDS.labels.detach().numpy()\n",
    "sm=torch.nn.Softmax(dim=1)\n",
    "probs = sm(net0(testDS.samples)).detach().numpy()\n",
    "pr,re,th=precision_recall_curve(labels,probs[:,1])\n",
    "ix=np.argsort(th)\n",
    "plt.plot(th[ix],pr[ix],color='red')\n",
    "plt.plot(th[ix],re[ix],color='blue')\n",
    "plt.show()"
   ]
  },
  {
   "cell_type": "code",
   "execution_count": null,
   "metadata": {},
   "outputs": [],
   "source": [
    "labels=testDS.labels.detach().numpy()\n",
    "sm=torch.nn.Softmax(dim=1)\n",
    "probs = sm(net0(testDS.samples)).detach().numpy()\n",
    "pr,re,th=precision_recall_curve(labels,probs[:,1])\n",
    "ix=np.argsort(th)\n",
    "plt.plot(th[ix],pr[ix],color='red')\n",
    "plt.plot(th[ix],re[ix],color='blue')\n",
    "plt.show()"
   ]
  },
  {
   "cell_type": "code",
   "execution_count": null,
   "metadata": {},
   "outputs": [],
   "source": [
    "th[ix]"
   ]
  }
 ],
 "metadata": {
  "kernelspec": {
   "display_name": "Python 3 (ipykernel)",
   "language": "python",
   "name": "python3"
  },
  "language_info": {
   "codemirror_mode": {
    "name": "ipython",
    "version": 3
   },
   "file_extension": ".py",
   "mimetype": "text/x-python",
   "name": "python",
   "nbconvert_exporter": "python",
   "pygments_lexer": "ipython3",
   "version": "3.8.12"
  }
 },
 "nbformat": 4,
 "nbformat_minor": 4
}
