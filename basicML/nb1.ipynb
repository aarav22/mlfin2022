{
 "cells": [
  {
   "cell_type": "markdown",
   "metadata": {
    "colab_type": "text",
    "id": "view-in-github"
   },
   "source": [
    "<a href=\"https://colab.research.google.com/github/gmshroff/mlfin2022/blob/main/basicML/nb1.ipynb\" target=\"_parent\"><img src=\"https://colab.research.google.com/assets/colab-badge.svg\" alt=\"Open In Colab\"/></a>"
   ]
  },
  {
   "cell_type": "markdown",
   "metadata": {
    "id": "PG2CuucepaBb"
   },
   "source": [
    "## Machine-learning on Options"
   ]
  },
  {
   "cell_type": "code",
   "execution_count": null,
   "metadata": {
    "id": "PB37a_tOrISS"
   },
   "outputs": [],
   "source": [
    "!pip install -q --upgrade --force-reinstall --no-deps kaggle"
   ]
  },
  {
   "cell_type": "code",
   "execution_count": null,
   "metadata": {
    "id": "g1kTt4WopaBd"
   },
   "outputs": [],
   "source": [
    "!pip install import_ipynb --quiet"
   ]
  },
  {
   "cell_type": "code",
   "execution_count": null,
   "metadata": {
    "id": "-2nO6QifpaBe"
   },
   "outputs": [],
   "source": [
    "!git clone https://github.com/gmshroff/mlfin2022.git"
   ]
  },
  {
   "cell_type": "code",
   "execution_count": null,
   "metadata": {
    "id": "NGOrGbSzpf7t"
   },
   "outputs": [],
   "source": [
    "%cd mlfin2022/basicML"
   ]
  },
  {
   "cell_type": "code",
   "execution_count": null,
   "metadata": {
    "id": "T1V_0jHkpaBe"
   },
   "outputs": [],
   "source": [
    "!rm models.ipynb\n",
    "from google.colab import files\n",
    "uploaded=files.upload()\n",
    "#upload your own models.ipynb"
   ]
  },
  {
   "cell_type": "code",
   "execution_count": null,
   "metadata": {},
   "outputs": [],
   "source": [
    "import warnings\n",
    "warnings.simplefilter(\"ignore\")"
   ]
  },
  {
   "cell_type": "code",
   "execution_count": null,
   "metadata": {
    "id": "0JT8430ZpaBf"
   },
   "outputs": [],
   "source": [
    "import pandas as pd\n",
    "import import_ipynb\n",
    "import utils\n",
    "import models\n",
    "import options_data\n",
    "import optutils"
   ]
  },
  {
   "cell_type": "code",
   "execution_count": null,
   "metadata": {
    "id": "P0G05Z_rpaBg"
   },
   "outputs": [],
   "source": [
    "from IPython import display\n",
    "import torch\n",
    "from sklearn.manifold import TSNE\n",
    "from matplotlib import pyplot as plt\n",
    "from IPython import display\n",
    "import numpy as np\n",
    "from sklearn.metrics import roc_auc_score, roc_curve, precision_recall_curve\n",
    "from sklearn.metrics import auc\n",
    "import pickle"
   ]
  },
  {
   "cell_type": "markdown",
   "metadata": {
    "id": "juE-1314paBg"
   },
   "source": [
    "## Loss Function"
   ]
  },
  {
   "cell_type": "code",
   "execution_count": null,
   "metadata": {
    "id": "JQetHffNpaBh"
   },
   "outputs": [],
   "source": [
    "lossfn=torch.nn.NLLLoss()"
   ]
  },
  {
   "cell_type": "code",
   "execution_count": null,
   "metadata": {
    "id": "GrKa_StgpaBi"
   },
   "outputs": [],
   "source": [
    "nll=torch.nn.NLLLoss(weight=torch.tensor([0.1,0.9]))\n",
    "softAUC=optutils.SoftAUC(scale=10.)\n",
    "WLoss=optutils.WeightedLoss(nll,softAUC.loss,a=1,b=100)\n",
    "lossfn=WLoss.loss"
   ]
  },
  {
   "cell_type": "markdown",
   "metadata": {
    "id": "GfDNYKJypaBi"
   },
   "source": [
    "# Get Options Data"
   ]
  },
  {
   "cell_type": "code",
   "execution_count": null,
   "metadata": {
    "id": "mW5puVmGpaBj",
    "tags": [
     "parameters"
    ]
   },
   "outputs": [],
   "source": [
    "OPTYPE='CE'"
   ]
  },
  {
   "cell_type": "markdown",
   "metadata": {
    "id": "Fl22oPwWpaBj"
   },
   "source": [
    "Pre-loaded meta-learning datasets:"
   ]
  },
  {
   "cell_type": "code",
   "execution_count": null,
   "metadata": {
    "id": "Vh6yRFAvqGmt"
   },
   "outputs": [],
   "source": [
    "from google.colab import files\n",
    "uploaded=files.upload()\n",
    "#upload your own kaggle.json"
   ]
  },
  {
   "cell_type": "code",
   "execution_count": null,
   "metadata": {
    "id": "2xda5iCTpaBj"
   },
   "outputs": [],
   "source": [
    "!mkdir /root/.kaggle\n",
    "!mv ./kaggle.json /root/.kaggle/.\n",
    "!chmod 600 /root/.kaggle/kaggle.json"
   ]
  },
  {
   "cell_type": "code",
   "execution_count": null,
   "metadata": {
    "id": "edQ15z12rgQI"
   },
   "outputs": [],
   "source": [
    "!kaggle datasets download -d gmshroff/options-dataset"
   ]
  },
  {
   "cell_type": "code",
   "execution_count": null,
   "metadata": {
    "id": "Z1Z1Dx8Cq7vc"
   },
   "outputs": [],
   "source": [
    "!unzip options-dataset.zip"
   ]
  },
  {
   "cell_type": "code",
   "execution_count": null,
   "metadata": {
    "id": "zmyoXYucsJKM"
   },
   "outputs": [],
   "source": [
    "with open('opDSCE_train2017_test2019.pickle/opDSCE_train2017_test2019.pickle','rb') as f: opDS=pickle.load(f)"
   ]
  },
  {
   "cell_type": "code",
   "execution_count": null,
   "metadata": {},
   "outputs": [],
   "source": [
    "with open('/Users/a112956/DataLocal/meta-options/opDSCE_train2017_test2019.pickle','rb') as f: opDS=pickle.load(f)"
   ]
  },
  {
   "cell_type": "code",
   "execution_count": null,
   "metadata": {
    "id": "YggVnHnFpaBk"
   },
   "outputs": [],
   "source": [
    "len(opDS.meta_train_tasks), len(opDS.meta_test_tasks),"
   ]
  },
  {
   "cell_type": "markdown",
   "metadata": {
    "id": "hroptHzBpaBk"
   },
   "source": [
    "## Standard MLP "
   ]
  },
  {
   "cell_type": "markdown",
   "metadata": {
    "id": "9iPO-zWgpaBk"
   },
   "source": [
    "Define MLP model and create normal train-test data"
   ]
  },
  {
   "cell_type": "code",
   "execution_count": null,
   "metadata": {
    "id": "FCBttlFjpaBk"
   },
   "outputs": [],
   "source": [
    "net0 = models.MLP(dims=[148,256,32,2])"
   ]
  },
  {
   "cell_type": "code",
   "execution_count": null,
   "metadata": {
    "id": "TyUiTo5xpaBl"
   },
   "outputs": [],
   "source": [
    "train_loader,trainDS,testDS=opDS.normal_train_test(minDate='01-Jan-2017',\n",
    "                                                  maxTrainDate='31-Dec-2018',\n",
    "                                                   minTestDate='01-Mar-2019',\n",
    "                                                  maxTestDate='31-Dec-2019')"
   ]
  },
  {
   "cell_type": "code",
   "execution_count": null,
   "metadata": {
    "id": "SiWr7fuZpaBl"
   },
   "outputs": [],
   "source": [
    "print(trainDS.samples.shape,testDS.samples.shape[0])"
   ]
  },
  {
   "cell_type": "code",
   "execution_count": null,
   "metadata": {
    "id": "FTX1nmDLpaBm"
   },
   "outputs": [],
   "source": [
    "net0.load_state_dict(torch.load('./savedmodels/MLP2017'+OPTYPE+'.pth'))"
   ]
  },
  {
   "cell_type": "markdown",
   "metadata": {
    "id": "iYI322iZpaBm"
   },
   "source": [
    "Train MLP model"
   ]
  },
  {
   "cell_type": "code",
   "execution_count": null,
   "metadata": {
    "id": "wgS4Ys2NpaBm"
   },
   "outputs": [],
   "source": [
    "net0,losses,accs=models.Train(net0,train_loader,epochs=5,verbose=True,Loss=lossfn)"
   ]
  },
  {
   "cell_type": "code",
   "execution_count": null,
   "metadata": {
    "id": "OTCOxhjdpaBm"
   },
   "outputs": [],
   "source": [
    "torch.save(net0.state_dict(),'./savedmodels/MLP2017'+OPTYPE+'.pth')"
   ]
  },
  {
   "cell_type": "code",
   "execution_count": null,
   "metadata": {
    "id": "Kek4TKoQpaBm"
   },
   "outputs": [],
   "source": [
    "models.accuracy(net0,testDS.samples,testDS.labels,verbose=True)"
   ]
  },
  {
   "cell_type": "code",
   "execution_count": null,
   "metadata": {
    "id": "KLTDrc6ApaBm"
   },
   "outputs": [],
   "source": [
    "labels=trainDS.labels.detach().numpy()\n",
    "sm=torch.nn.Softmax(dim=1)\n",
    "probs = sm(net0(trainDS.samples)).detach().numpy()\n",
    "pr,re,th=precision_recall_curve(labels,probs[:,1])\n",
    "ix=np.argsort(th)\n",
    "plt.plot(th[ix],pr[ix],color='red')\n",
    "plt.plot(th[ix],re[ix],color='blue')\n",
    "plt.show()"
   ]
  },
  {
   "cell_type": "code",
   "execution_count": null,
   "metadata": {
    "id": "zpTYtprFpaBn"
   },
   "outputs": [],
   "source": [
    "labels=testDS.labels.detach().numpy()\n",
    "sm=torch.nn.Softmax(dim=1)\n",
    "probs = sm(net0(testDS.samples)).detach().numpy()\n",
    "pr,re,th=precision_recall_curve(labels,probs[:,1])\n",
    "ix=np.argsort(th)\n",
    "plt.plot(th[ix],pr[ix],color='red')\n",
    "plt.plot(th[ix],re[ix],color='blue')\n",
    "plt.show()"
   ]
  },
  {
   "cell_type": "code",
   "execution_count": null,
   "metadata": {
    "id": "5qbxw7FDpaBn"
   },
   "outputs": [],
   "source": [
    "th[ix]"
   ]
  },
  {
   "cell_type": "markdown",
   "metadata": {},
   "source": [
    "## CART: Decision Tree Classifier"
   ]
  },
  {
   "cell_type": "code",
   "execution_count": null,
   "metadata": {},
   "outputs": [],
   "source": [
    "from sklearn import tree"
   ]
  },
  {
   "cell_type": "code",
   "execution_count": null,
   "metadata": {},
   "outputs": [],
   "source": [
    "clf = tree.DecisionTreeClassifier(max_depth=3,max_features=2)"
   ]
  },
  {
   "cell_type": "code",
   "execution_count": null,
   "metadata": {},
   "outputs": [],
   "source": [
    "clf.fit(trainDS.samples,trainDS.labels)"
   ]
  },
  {
   "cell_type": "code",
   "execution_count": null,
   "metadata": {},
   "outputs": [],
   "source": [
    "class CART():\n",
    "    def __init__(self,clf):\n",
    "        self.clf=clf\n",
    "    def __call__(self,X):\n",
    "        return torch.tensor(self.clf.predict_proba(X))\n",
    "    def eval(self):\n",
    "        pass\n",
    "    def train(self):\n",
    "        pass"
   ]
  },
  {
   "cell_type": "code",
   "execution_count": null,
   "metadata": {},
   "outputs": [],
   "source": [
    "cart=CART(clf)"
   ]
  },
  {
   "cell_type": "code",
   "execution_count": null,
   "metadata": {},
   "outputs": [],
   "source": [
    "models.accuracy(cart,trainDS.samples,trainDS.labels,verbose=True)"
   ]
  },
  {
   "cell_type": "code",
   "execution_count": null,
   "metadata": {},
   "outputs": [],
   "source": [
    "models.accuracy(cart,testDS.samples,testDS.labels,verbose=True)"
   ]
  },
  {
   "cell_type": "code",
   "execution_count": null,
   "metadata": {
    "tags": []
   },
   "outputs": [],
   "source": [
    "print(tree.export_text(clf))"
   ]
  },
  {
   "cell_type": "code",
   "execution_count": null,
   "metadata": {},
   "outputs": [],
   "source": []
  }
 ],
 "metadata": {
  "colab": {
   "include_colab_link": true,
   "name": "nb1.ipynb",
   "provenance": []
  },
  "kernelspec": {
   "display_name": "Python 3 (ipykernel)",
   "language": "python",
   "name": "python3"
  },
  "language_info": {
   "codemirror_mode": {
    "name": "ipython",
    "version": 3
   },
   "file_extension": ".py",
   "mimetype": "text/x-python",
   "name": "python",
   "nbconvert_exporter": "python",
   "pygments_lexer": "ipython3",
   "version": "3.8.12"
  }
 },
 "nbformat": 4,
 "nbformat_minor": 4
}
