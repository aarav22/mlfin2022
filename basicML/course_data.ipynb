{
 "cells": [
  {
   "cell_type": "code",
   "execution_count": null,
   "id": "43f159b4-9256-4ffd-91c7-69387492d535",
   "metadata": {},
   "outputs": [],
   "source": [
    "import numpy as np\n",
    "import pandas as pd\n",
    "import torch\n",
    "from torch.utils.data import Dataset\n",
    "from torch.utils.data import DataLoader\n",
    "from PIL import Image\n",
    "from PIL.ImageOps import invert\n",
    "import pickle\n",
    "from matplotlib import pyplot as plt"
   ]
  },
  {
   "cell_type": "code",
   "execution_count": null,
   "id": "bb14129d-d0d6-4665-be8d-d9c8de585221",
   "metadata": {},
   "outputs": [],
   "source": [
    "class MyDS(Dataset):\n",
    "    def __init__(self, X,y):\n",
    "        self.samples = torch.Tensor(X)\n",
    "        self.labels = torch.LongTensor(y)\n",
    "        \n",
    "    def __len__(self):\n",
    "        return len(self.samples)\n",
    "\n",
    "    def __getitem__(self, idx):\n",
    "        return (self.samples[idx],self.labels[idx])"
   ]
  },
  {
   "cell_type": "code",
   "execution_count": null,
   "id": "3f038477-1a22-4f35-a67f-d5d70918475a",
   "metadata": {},
   "outputs": [],
   "source": [
    "class ImageData():\n",
    "    def __init__():\n",
    "        # train_ds\n",
    "        # test_ds\n",
    "        # images_train\n",
    "        # images_test\n",
    "        # names_train\n",
    "        # names_test\n",
    "        # dloader\n",
    "        # mapping\n",
    "        pass"
   ]
  },
  {
   "cell_type": "code",
   "execution_count": null,
   "id": "2a0071e0",
   "metadata": {},
   "outputs": [],
   "source": [
    "class ImageGridData():\n",
    "    def __init__(self):\n",
    "        pass"
   ]
  },
  {
   "cell_type": "code",
   "execution_count": null,
   "id": "1eac4547-2bf4-4392-bf66-765d602cb2e0",
   "metadata": {},
   "outputs": [],
   "source": [
    "class TsDS(Dataset):\n",
    "    def __init__(self, XL,yL):\n",
    "        self.samples=[]\n",
    "        self.labels=[]\n",
    "        for X,Y in zip(XL,yL):\n",
    "            self.samples += [torch.Tensor(X).unsqueeze(0)]\n",
    "            self.labels += [torch.LongTensor(Y)]\n",
    "    def __len__(self):\n",
    "        return len(self.samples)\n",
    "\n",
    "    def __getitem__(self, idx):\n",
    "        return (self.samples[idx],self.labels[idx])"
   ]
  },
  {
   "cell_type": "code",
   "execution_count": null,
   "id": "c952618c-41e7-41a7-8787-97a1fe458ba1",
   "metadata": {},
   "outputs": [],
   "source": [
    "class FeedData():\n",
    "    def __init__():\n",
    "        #train_ds\n",
    "        #test_ds\n",
    "        pass"
   ]
  },
  {
   "cell_type": "raw",
   "id": "4c330063-d8c3-45a4-ab0d-6551cc90125a",
   "metadata": {},
   "source": [
    "Load Image Dataset"
   ]
  },
  {
   "cell_type": "raw",
   "id": "f0b01bc2-6c82-4f16-84e5-3f1aa3403561",
   "metadata": {},
   "source": [
    "with open('./DataLocal/course_data/image_data.pickle','rb') as f: imageData=pickle.load(f)"
   ]
  },
  {
   "cell_type": "raw",
   "id": "bc2b7435-7e76-417c-92f8-efb54ceac635",
   "metadata": {},
   "source": [
    "Load images in grid dataset"
   ]
  },
  {
   "cell_type": "raw",
   "id": "bb484e4f-e936-4bff-9579-3445f12a0611",
   "metadata": {},
   "source": [
    "%cd"
   ]
  },
  {
   "cell_type": "raw",
   "id": "839e686b-92fa-41d1-b824-924fc13783c2",
   "metadata": {},
   "source": [
    "with open('./DataLocal/course_data/image_grid_data.pickle','rb') as f: imageGrid=pickle.load(f)"
   ]
  },
  {
   "cell_type": "raw",
   "id": "e2905132-8462-4eb6-92a9-9e99dd2d126f",
   "metadata": {},
   "source": [
    "plt.imshow(imageGrid.train_data[9000])"
   ]
  },
  {
   "cell_type": "raw",
   "id": "9db2f117-ea66-4df5-bfd4-1d319e207045",
   "metadata": {},
   "source": [
    "imageGrid.train_labels[9000]"
   ]
  },
  {
   "cell_type": "raw",
   "id": "b0f3bb10-db01-4d77-af1d-d4fb1738390f",
   "metadata": {},
   "source": [
    "Load Feeds Dataset"
   ]
  },
  {
   "cell_type": "raw",
   "id": "b5d12f38-de35-42d3-80f1-af2d74df08e2",
   "metadata": {},
   "source": [
    "with open('./DataLocal/course_data/feedDataTrain.pickle','rb') as f: feedDataMetaTrain=pickle.load(f)"
   ]
  },
  {
   "cell_type": "raw",
   "id": "183207c0-3be2-42a5-bb75-8d2eaeaf3fbb",
   "metadata": {},
   "source": [
    "with open('./DataLocal/course_data/feedDataTest.pickle','rb') as f: feedDataMetaTest=pickle.load(f)"
   ]
  },
  {
   "cell_type": "code",
   "execution_count": null,
   "id": "e840e6b7-235f-411b-8f21-e0ad0b36ac5c",
   "metadata": {},
   "outputs": [],
   "source": []
  }
 ],
 "metadata": {
  "kernelspec": {
   "display_name": "Python 3 (ipykernel)",
   "language": "python",
   "name": "python3"
  },
  "language_info": {
   "codemirror_mode": {
    "name": "ipython",
    "version": 3
   },
   "file_extension": ".py",
   "mimetype": "text/x-python",
   "name": "python",
   "nbconvert_exporter": "python",
   "pygments_lexer": "ipython3",
   "version": "3.8.12"
  }
 },
 "nbformat": 4,
 "nbformat_minor": 5
}
