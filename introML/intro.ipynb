{
 "cells": [
  {
   "cell_type": "markdown",
   "id": "09ac1758-96ec-4777-af69-38d404c5e380",
   "metadata": {},
   "source": [
    "# Data"
   ]
  },
  {
   "cell_type": "code",
   "execution_count": null,
   "id": "32be9814-d421-4153-9a5f-1dda60085778",
   "metadata": {},
   "outputs": [],
   "source": [
    "#!pip install yfinance --quiet\n",
    "#!pip install mplfinance --quiet"
   ]
  },
  {
   "cell_type": "code",
   "execution_count": null,
   "id": "f42392b8-635f-4022-8e87-1df1a7dc0f44",
   "metadata": {},
   "outputs": [],
   "source": [
    "import yfinance as yf\n",
    "import pandas as pd\n",
    "from matplotlib import pyplot as plt\n",
    "import mplfinance\n",
    "import numpy as np"
   ]
  },
  {
   "cell_type": "code",
   "execution_count": null,
   "id": "2cc65d11-40f3-493a-8418-3052f37d2ae4",
   "metadata": {},
   "outputs": [],
   "source": [
    "df=yf.Ticker('^NSEI').history(period='1d',interval='1m')"
   ]
  },
  {
   "cell_type": "code",
   "execution_count": null,
   "id": "8f498bef-5905-4d81-96af-3551cc0099cd",
   "metadata": {},
   "outputs": [],
   "source": [
    "mplfinance.plot(\n",
    "    df.iloc[0:50],\n",
    "    type=\"candle\")"
   ]
  },
  {
   "cell_type": "markdown",
   "id": "13ae0901-9810-4689-95b2-ee059c747d6d",
   "metadata": {},
   "source": [
    "Time Series"
   ]
  },
  {
   "cell_type": "code",
   "execution_count": null,
   "id": "eb7b4d5d-72c8-4a3d-b33d-67ad167f0fd6",
   "metadata": {},
   "outputs": [],
   "source": [
    "pulses=[[0,0,10,10,10,0,0,0,0,10,10,0,0],\n",
    "       [0,0,0,0,0,0,10,10,10,10,10,0,0],\n",
    "       [0,0,10,10,0,0,0,0,0,0,0,10,10],\n",
    "       [0,10,10,0,10,10,0,0,0,10,10,0,0]]"
   ]
  },
  {
   "cell_type": "code",
   "execution_count": null,
   "id": "8ec496ea-bd83-40c7-8699-a8d65f2eda07",
   "metadata": {},
   "outputs": [],
   "source": [
    "triangles=[[0,0,0,3,5,7,10,7,5,3,0,0,0],\n",
    "           [0,5,10,5,0,0,0,0,3,8,3,0,0],\n",
    "           [0,0,0,6,12,5,0,0,0,0,5,10,3],\n",
    "           [0,0,6,12,5,0,3,5,7,10,7,5,3]]\n",
    "triangles=list(np.array(triangles)*-1)"
   ]
  },
  {
   "cell_type": "code",
   "execution_count": null,
   "id": "8d067418-3417-478e-8092-9ce4ec7c5272",
   "metadata": {},
   "outputs": [],
   "source": [
    "test=[[3,12,3,0,5,7,3,0,0,3,7,4,0],\n",
    "      [0,10,10,10,10,10,0,0,0,10,10,10,0]]\n",
    "test[0]=list(np.array(test[0])*-1)"
   ]
  },
  {
   "cell_type": "code",
   "execution_count": null,
   "id": "f7a347eb-281f-4ba4-ba61-69acf311182e",
   "metadata": {
    "tags": []
   },
   "outputs": [],
   "source": [
    "for i in range(4):\n",
    "    print(f'pulse {i}')\n",
    "    plt.plot(pulses[i])\n",
    "    plt.show()\n",
    "for i in range(4):\n",
    "    print(f'triangle {i}')\n",
    "    plt.plot(triangles[i])\n",
    "    plt.show()\n",
    "for i in range(2):\n",
    "    print(f'test {i}')\n",
    "    plt.plot(test[i])\n",
    "    plt.show()"
   ]
  },
  {
   "cell_type": "markdown",
   "id": "fddf1aa4-f15d-4ca7-8fa6-9e2249547455",
   "metadata": {},
   "source": [
    "# Machine Learning using a Neural Network"
   ]
  },
  {
   "cell_type": "code",
   "execution_count": null,
   "id": "358ab50d-5e4c-45e3-b599-9619ed8e7218",
   "metadata": {},
   "outputs": [],
   "source": [
    "import torch\n",
    "import torch.nn as nn\n",
    "import torch.optim as optim"
   ]
  },
  {
   "cell_type": "code",
   "execution_count": null,
   "id": "9b781ab2-181c-4877-bf70-9b2e9b025bc9",
   "metadata": {},
   "outputs": [],
   "source": [
    "class Net(nn.Module):\n",
    "    def __init__(self):\n",
    "        super(Net,self).__init__()\n",
    "        self.layers=nn.ModuleList()\n",
    "        self.layers.append(nn.Linear(13,64))\n",
    "        self.layers.append(nn.ReLU())\n",
    "        self.layers.append(nn.Dropout(.3))\n",
    "        self.layers.append(nn.Linear(64,2))\n",
    "        self.layers.append(nn.LogSoftmax(dim=0))\n",
    "    def forward(self,x):\n",
    "        for l in self.layers:\n",
    "            x = l(x)\n",
    "        return(x)"
   ]
  },
  {
   "cell_type": "code",
   "execution_count": null,
   "id": "50ee29f5-fcdf-472b-b58b-f10aa50c3ee8",
   "metadata": {},
   "outputs": [],
   "source": [
    "X_train=torch.concat([torch.tensor(pulses,dtype=torch.float),torch.tensor(triangles,dtype=torch.float)])"
   ]
  },
  {
   "cell_type": "code",
   "execution_count": null,
   "id": "8c41905b-fa6e-4680-a818-f0ac0a7dec4b",
   "metadata": {},
   "outputs": [],
   "source": [
    "y_train=torch.concat([torch.zeros(4,dtype=torch.long),torch.ones(4,dtype=torch.long)])"
   ]
  },
  {
   "cell_type": "code",
   "execution_count": null,
   "id": "d91d95a4-18e0-4fc4-a9c7-4de449c2888f",
   "metadata": {},
   "outputs": [],
   "source": [
    "X_test=torch.tensor(test,dtype=torch.float)"
   ]
  },
  {
   "cell_type": "code",
   "execution_count": null,
   "id": "7f629021-e41b-48fd-a4e6-0f05ca94db05",
   "metadata": {},
   "outputs": [],
   "source": [
    "net=Net()"
   ]
  },
  {
   "cell_type": "code",
   "execution_count": null,
   "id": "080d8cb3-34e8-4518-a87a-acb7e656f9d1",
   "metadata": {},
   "outputs": [],
   "source": [
    "opt=optim.Adam(net.parameters(),lr=1e-2)"
   ]
  },
  {
   "cell_type": "code",
   "execution_count": null,
   "id": "7ef68df7-4ae3-4aa4-81b4-5e8875804c35",
   "metadata": {
    "tags": []
   },
   "outputs": [],
   "source": [
    "Loss=nn.NLLLoss()\n",
    "losses=[]\n",
    "for e in range(50):\n",
    "    for d in range(8):\n",
    "        opt.zero_grad()\n",
    "        predictions=net(X_train[d])\n",
    "        loss = Loss(predictions.unsqueeze(0), y_train[d].unsqueeze(0))\n",
    "        loss.backward()\n",
    "        losses+=[loss.item()]\n",
    "        opt.step()"
   ]
  },
  {
   "cell_type": "code",
   "execution_count": null,
   "id": "db34c9eb-de7e-4664-8a1b-662ed3132185",
   "metadata": {
    "tags": []
   },
   "outputs": [],
   "source": [
    "plt.plot(losses)"
   ]
  },
  {
   "cell_type": "code",
   "execution_count": null,
   "id": "c24d64de-7420-4a42-9d9c-f4645c69d732",
   "metadata": {},
   "outputs": [],
   "source": [
    "torch.argmax(net(X_train),dim=1)"
   ]
  },
  {
   "cell_type": "code",
   "execution_count": null,
   "id": "f34e9e2d-6ea4-4e31-a102-64a327d4c4ae",
   "metadata": {},
   "outputs": [],
   "source": [
    "torch.argmax(net(X_test),dim=1)"
   ]
  },
  {
   "cell_type": "code",
   "execution_count": null,
   "id": "b96703f1-14d9-48d0-961b-64b02fac8ad8",
   "metadata": {},
   "outputs": [],
   "source": [
    "X_test"
   ]
  },
  {
   "cell_type": "code",
   "execution_count": null,
   "id": "8e1197fd-ab9d-4004-863b-42dee7253d9e",
   "metadata": {},
   "outputs": [],
   "source": []
  }
 ],
 "metadata": {
  "kernelspec": {
   "display_name": "Python 3 (ipykernel)",
   "language": "python",
   "name": "python3"
  },
  "language_info": {
   "codemirror_mode": {
    "name": "ipython",
    "version": 3
   },
   "file_extension": ".py",
   "mimetype": "text/x-python",
   "name": "python",
   "nbconvert_exporter": "python",
   "pygments_lexer": "ipython3",
   "version": "3.8.12"
  }
 },
 "nbformat": 4,
 "nbformat_minor": 5
}
