{
 "cells": [
  {
   "cell_type": "code",
   "execution_count": null,
   "id": "22a2b1e4-3972-4c83-a718-6b0b63ee65b2",
   "metadata": {},
   "outputs": [],
   "source": [
    "import torch"
   ]
  },
  {
   "cell_type": "code",
   "execution_count": null,
   "id": "8a772b00-1222-4f46-8c4a-17ac49ac6677",
   "metadata": {},
   "outputs": [],
   "source": [
    "def network(x,w):\n",
    "    return x@w"
   ]
  },
  {
   "cell_type": "code",
   "execution_count": null,
   "id": "97b80a83-dc8b-4ac8-95be-e71be29d293f",
   "metadata": {},
   "outputs": [],
   "source": [
    "loss = torch.nn.MSELoss()"
   ]
  },
  {
   "cell_type": "code",
   "execution_count": null,
   "id": "2baf9599-62b6-440f-a8bc-e364da23b167",
   "metadata": {},
   "outputs": [],
   "source": [
    "Z=(torch.ones(3,1)).float()"
   ]
  },
  {
   "cell_type": "code",
   "execution_count": null,
   "id": "1c910fcf-81f2-4a3c-89a7-8771470fa1da",
   "metadata": {},
   "outputs": [],
   "source": [
    "z=(torch.ones(3,1)*2).float()"
   ]
  },
  {
   "cell_type": "code",
   "execution_count": null,
   "id": "5a24b83c-5033-41dd-b5e2-965aadd29553",
   "metadata": {},
   "outputs": [],
   "source": [
    "w=(torch.ones(1,1,requires_grad=True)).float()"
   ]
  },
  {
   "cell_type": "code",
   "execution_count": null,
   "id": "e41a5764-ce9b-4653-89f3-03302275cbb6",
   "metadata": {},
   "outputs": [],
   "source": [
    "# opt=torch.optim.SGD([w],lr=1e-1)\n",
    "opt=torch.optim.Adam([w],lr=1e-2)"
   ]
  },
  {
   "cell_type": "code",
   "execution_count": null,
   "id": "7a93f977-0a40-4c88-908a-904c67d29abd",
   "metadata": {},
   "outputs": [],
   "source": [
    "for e in range(200):\n",
    "    L=loss(network(Z,w),z)\n",
    "    opt.zero_grad()\n",
    "    L.backward()\n",
    "    opt.step()\n",
    "    print(f\"w {w}, w.grad {w.grad} after step\")"
   ]
  },
  {
   "cell_type": "code",
   "execution_count": null,
   "id": "5146dd2e-67a3-4862-9998-ad2546a7e7c9",
   "metadata": {},
   "outputs": [],
   "source": []
  }
 ],
 "metadata": {
  "kernelspec": {
   "display_name": "Python 3 (ipykernel)",
   "language": "python",
   "name": "python3"
  },
  "language_info": {
   "codemirror_mode": {
    "name": "ipython",
    "version": 3
   },
   "file_extension": ".py",
   "mimetype": "text/x-python",
   "name": "python",
   "nbconvert_exporter": "python",
   "pygments_lexer": "ipython3",
   "version": "3.8.12"
  }
 },
 "nbformat": 4,
 "nbformat_minor": 5
}
