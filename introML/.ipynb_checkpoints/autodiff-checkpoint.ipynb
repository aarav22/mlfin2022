{
 "cells": [
  {
   "cell_type": "code",
   "execution_count": null,
   "id": "7b2f56e1-622c-4156-b8f9-c8e95fb925cb",
   "metadata": {},
   "outputs": [],
   "source": [
    "import torch"
   ]
  },
  {
   "cell_type": "code",
   "execution_count": null,
   "id": "0edc7d8d-a9ce-4015-957c-8a99c9117617",
   "metadata": {},
   "outputs": [],
   "source": [
    "def network(x,w):\n",
    "    return x@w # just return x times a scalar w, no additive parameter \n",
    "loss = torch.nn.MSELoss()"
   ]
  },
  {
   "cell_type": "code",
   "execution_count": null,
   "id": "b03f26e3-41c2-46e5-8188-f6b251faf3d3",
   "metadata": {},
   "outputs": [],
   "source": [
    "Z=(torch.ones(3,1)).float() # input data\n",
    "z=(torch.ones(3,1)*2).float() # targets, i.e. what x@w is supposed to be, i.e. w should be [2]"
   ]
  },
  {
   "cell_type": "code",
   "execution_count": null,
   "id": "0997b61e-b601-4fbd-a250-07be83c99488",
   "metadata": {},
   "outputs": [],
   "source": [
    "Zt=(torch.ones(3,1)*1.5).float() # test data\n",
    "zt=(torch.ones(3,1)*2*1.5).float() # test target"
   ]
  },
  {
   "cell_type": "code",
   "execution_count": null,
   "id": "6a85457e-d4cf-4bdc-be6b-b7932e914685",
   "metadata": {},
   "outputs": [],
   "source": [
    "w0=(torch.ones(1,1,requires_grad=True)).float() # initial parameters w = [1]"
   ]
  },
  {
   "cell_type": "code",
   "execution_count": null,
   "id": "2db2b7b6-0736-4860-8935-1c7e01ed3f44",
   "metadata": {},
   "outputs": [],
   "source": [
    "opt=torch.optim.SGD([w0],lr=1e-1) # vanilla stochastic gradient descent\n",
    "# opt=torch.optim.Adam([w0],lr=1e-1) # adaptive momemtum - see the difference from pure SGD"
   ]
  },
  {
   "cell_type": "code",
   "execution_count": null,
   "id": "dedde986-acbd-4a98-ac98-53c2c289a7e0",
   "metadata": {},
   "outputs": [],
   "source": [
    "for e in range(20):\n",
    "    L=loss(network(Z,w0),z)\n",
    "    opt.zero_grad()\n",
    "    L.backward()\n",
    "    c=input(f\"w0 {w0}, L {L}, w0.grad {w0.grad}, cont?\")\n",
    "    opt.step()\n",
    "    print(f\"w0 {w0} after step\")"
   ]
  },
  {
   "cell_type": "code",
   "execution_count": null,
   "id": "eec3cfa3-7df8-4436-97bd-abdabf3cb740",
   "metadata": {},
   "outputs": [],
   "source": []
  }
 ],
 "metadata": {
  "kernelspec": {
   "display_name": "Python 3 (ipykernel)",
   "language": "python",
   "name": "python3"
  },
  "language_info": {
   "codemirror_mode": {
    "name": "ipython",
    "version": 3
   },
   "file_extension": ".py",
   "mimetype": "text/x-python",
   "name": "python",
   "nbconvert_exporter": "python",
   "pygments_lexer": "ipython3",
   "version": "3.8.12"
  }
 },
 "nbformat": 4,
 "nbformat_minor": 5
}
