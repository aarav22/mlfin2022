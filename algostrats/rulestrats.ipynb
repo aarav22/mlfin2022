{
 "cells": [
  {
   "cell_type": "code",
   "execution_count": null,
   "id": "d7889ded-dd8c-4c73-aadd-687cf98ddbb0",
   "metadata": {},
   "outputs": [],
   "source": [
    "import import_ipynb\n",
    "import pandas as pd\n",
    "import numpy as np\n",
    "import torch\n",
    "from datetime import datetime\n",
    "from datetime import datetime as dt\n",
    "from torch.utils.data import Dataset\n",
    "# from tqdm.notebook import tqdm\n",
    "from sklearn.preprocessing import StandardScaler\n",
    "import pickle"
   ]
  },
  {
   "cell_type": "code",
   "execution_count": 1,
   "id": "d8046d90",
   "metadata": {},
   "outputs": [],
   "source": [
    "def do_nothing(dfD):\n",
    "    empty={t:0 for t in dfD}\n",
    "    return empty,empty,empty\n",
    "def always_buy(dfD):\n",
    "    buy={t:1 for t in dfD}\n",
    "    empty={t:0 for t in dfD}\n",
    "    return buy,empty,empty\n",
    "def always_sell(dfD):\n",
    "    sell={t:-1 for t in dfD}\n",
    "    empty={t:0 for t in dfD}\n",
    "    return sell,empty,empty"
   ]
  },
  {
   "cell_type": "markdown",
   "id": "2d968479-dbed-4d41-b7f5-46316cd68ec6",
   "metadata": {},
   "source": [
    "Host Service via Anvil"
   ]
  },
  {
   "cell_type": "code",
   "execution_count": null,
   "id": "ab497b92-51d2-405a-b27a-19a5e7043a85",
   "metadata": {},
   "outputs": [],
   "source": [
    "class MomStrat():\n",
    "    def __init__(self,th=.00025,regime='trend'):\n",
    "        #regime can be 'trend' or 'mr' (mean-reversal)\n",
    "        self.logL=[]\n",
    "        self.th=th\n",
    "        self.model_type='rule_based'\n",
    "        self.data_cols=['Close','datetime']\n",
    "        self.regime=regime\n",
    "    def set_alt_data(self,alt_data_func,remote=False):\n",
    "        if remote: self.gdata=anvil.server.call(alt_data_func)['gdata']\n",
    "        else: self.gdata=alt_data_func()['gdata']\n",
    "    def check_entry_batch(self,dfD):\n",
    "        return always_buy(dfD)\n",
    "        decisionsD={t:0 for t in dfD}\n",
    "        stopD={t:5 for t in dfD}\n",
    "        targetD={t:5 for t in dfD}\n",
    "        dataD={}\n",
    "        log_entry={}\n",
    "        for t in dfD.keys():\n",
    "            data=dfD[t]\n",
    "            if data.shape[0]>2:\n",
    "                r=np.log(data['Close']/data['Close'].shift(1)).dropna()\n",
    "                m=r.rolling(30).mean().values\n",
    "                if m[-1]>self.th: \n",
    "                    if self.regime=='trend':decisionsD[t]=1\n",
    "                    elif self.regime=='mr':decisionsD[t]=-1\n",
    "                elif m[-1]<-self.th: \n",
    "                    if self.regime=='trend':decisionsD[t]=-1\n",
    "                    elif self.regime=='mr':decisionsD[t]=1\n",
    "                else: decisionsD[t]=0\n",
    "        return decisionsD,stopD,targetD\n",
    "    def check_exit_batch(self,dfD,posf):\n",
    "        def exit_fn(row):\n",
    "            return self.exit_predicate(row,dfD[row.ticker])\n",
    "        posf['to_exit']=posf.apply(exit_fn,axis=1).values\n",
    "        return posf\n",
    "    def exit_predicate(self,row,df):\n",
    "        return False\n",
    "        data=df\n",
    "        r=np.log(data['Close']/data['Close'].shift(1)).dropna()\n",
    "        m=r.rolling(20).mean().values\n",
    "        if row['quant']>0 and m[-1]<self.th/3: return True\n",
    "        elif row['quant']<0 and m[-1]>-self.th/3: return True\n",
    "        else: return False\n",
    "    def Check(strat,dfD):\n",
    "        return strat.check_entry_batch(dfD)\n",
    "    def Exit(strat,dfD,posf):\n",
    "        return strat.check_exit_batch(dfD,posf)"
   ]
  },
  {
   "cell_type": "code",
   "execution_count": null,
   "id": "614b2262",
   "metadata": {},
   "outputs": [],
   "source": []
  },
  {
   "cell_type": "code",
   "execution_count": null,
   "id": "42692ec2-d6ec-4c8b-b7f5-8af325f40753",
   "metadata": {},
   "outputs": [],
   "source": []
  }
 ],
 "metadata": {
  "kernelspec": {
   "display_name": "Python 3.8.0 64-bit",
   "language": "python",
   "name": "python3"
  },
  "language_info": {
   "codemirror_mode": {
    "name": "ipython",
    "version": 3
   },
   "file_extension": ".py",
   "mimetype": "text/x-python",
   "name": "python",
   "nbconvert_exporter": "python",
   "pygments_lexer": "ipython3",
   "version": "3.8.0"
  },
  "vscode": {
   "interpreter": {
    "hash": "a82ad8e72fffe92032187723e991c8fe18fd31d54884e3ae37921173cdd2df21"
   }
  }
 },
 "nbformat": 4,
 "nbformat_minor": 5
}
