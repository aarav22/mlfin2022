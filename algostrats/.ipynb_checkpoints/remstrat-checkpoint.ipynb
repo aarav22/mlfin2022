{
 "cells": [
  {
   "cell_type": "markdown",
   "id": "9490d059-d36e-4088-9c6f-123f74ffc25f",
   "metadata": {
    "id": "9490d059-d36e-4088-9c6f-123f74ffc25f"
   },
   "source": [
    "## Template for remote userid-based strategy"
   ]
  },
  {
   "cell_type": "code",
   "execution_count": null,
   "id": "TvWIrNmj1vup",
   "metadata": {
    "id": "TvWIrNmj1vup"
   },
   "outputs": [],
   "source": [
    "!pip install import_ipynb --quiet\n",
    "!pip install anvil-uplink --quiet\n",
    "!pip install yfinance --quiet\n",
    "!pip install pandas_ta --quiet\n",
    "!pip install ipynb --quiet\n",
    "!pip install rpyc --quiet"
   ]
  },
  {
   "cell_type": "code",
   "execution_count": null,
   "id": "bb1270c8-fe70-439b-946e-6cd353dd218f",
   "metadata": {
    "id": "bb1270c8-fe70-439b-946e-6cd353dd218f"
   },
   "outputs": [],
   "source": [
    "import import_ipynb\n",
    "import pandas as pd\n",
    "import numpy as np\n",
    "import torch\n",
    "from datetime import datetime\n",
    "from datetime import datetime as dt\n",
    "from torch.utils.data import Dataset\n",
    "from tqdm.notebook import tqdm\n",
    "from sklearn.preprocessing import StandardScaler\n",
    "import pickle\n",
    "import ipynb"
   ]
  },
  {
   "cell_type": "code",
   "execution_count": null,
   "id": "11dadd24-e563-40c3-8fb1-862f4cd68318",
   "metadata": {
    "id": "11dadd24-e563-40c3-8fb1-862f4cd68318"
   },
   "outputs": [],
   "source": [
    "import anvil.server"
   ]
  },
  {
   "cell_type": "code",
   "execution_count": null,
   "id": "f3d9d7d3-335b-4842-96a5-970eccb3690d",
   "metadata": {
    "id": "f3d9d7d3-335b-4842-96a5-970eccb3690d"
   },
   "outputs": [],
   "source": [
    "anvil.server.connect(\"STKYCIXUMGFV2CURGMCMOFUV-MBK5ZXFC4MCKYKOE\")"
   ]
  },
  {
   "cell_type": "code",
   "execution_count": null,
   "id": "Z7jQl7Kl2adA",
   "metadata": {
    "id": "Z7jQl7Kl2adA",
    "tags": []
   },
   "outputs": [],
   "source": [
    "from google.colab import files\n",
    "uploaded=files.upload()"
   ]
  },
  {
   "cell_type": "code",
   "execution_count": null,
   "id": "4aa30376",
   "metadata": {
    "id": "4aa30376"
   },
   "outputs": [],
   "source": [
    "from ipynb.fs.defs.rulestrats import MomStrat"
   ]
  },
  {
   "cell_type": "code",
   "execution_count": null,
   "id": "66526292-b3a8-40d7-9cec-e938dacef1f2",
   "metadata": {
    "id": "66526292-b3a8-40d7-9cec-e938dacef1f2"
   },
   "outputs": [],
   "source": [
    "def do_nothing(dfD):\n",
    "    empty={t:0 for t in dfD}\n",
    "    return empty,empty,empty\n",
    "def always_buy(dfD):\n",
    "    buy={t:1 for t in dfD}\n",
    "    empty={t:0 for t in dfD}\n",
    "    return buy,empty,empty\n",
    "def always_sell(dfD):\n",
    "    sell={t:-1 for t in dfD}\n",
    "    empty={t:0 for t in dfD}\n",
    "    return sell,empty,empty"
   ]
  },
  {
   "cell_type": "code",
   "execution_count": null,
   "id": "dba59576",
   "metadata": {
    "id": "dba59576"
   },
   "outputs": [],
   "source": [
    "do_nothing({'TCS.NS':0, 'WIPRO.NS':0})"
   ]
  },
  {
   "cell_type": "code",
   "execution_count": null,
   "id": "25fa38f2",
   "metadata": {
    "id": "25fa38f2"
   },
   "outputs": [],
   "source": [
    "momStrat=MomStrat()"
   ]
  },
  {
   "cell_type": "code",
   "execution_count": null,
   "id": "f1d0112f-7b58-48ca-a4b0-2451a54ba920",
   "metadata": {
    "tags": []
   },
   "outputs": [],
   "source": [
    "mode='sim'\n",
    "momStrat.set_alt_data(alt_data_func='get_alt_data_'+mode,remote=True)"
   ]
  },
  {
   "cell_type": "code",
   "execution_count": null,
   "id": "e5b92fc8",
   "metadata": {
    "id": "e5b92fc8"
   },
   "outputs": [],
   "source": [
    "logL=[]"
   ]
  },
  {
   "cell_type": "code",
   "execution_count": null,
   "id": "c3f9afdf-e543-45ae-b138-84e9acfeb424",
   "metadata": {
    "id": "c3f9afdf-e543-45ae-b138-84e9acfeb424"
   },
   "outputs": [],
   "source": [
    "@anvil.server.callable\n",
    "def check_entry_batch_s0_at_a_dot_edu(dfD):\n",
    "    global momStrat,logL\n",
    "    dfDloc={}\n",
    "    for t in dfD.keys():\n",
    "        dfDloc[t]=pd.DataFrame(dfD[t])\n",
    "    retval=MomStrat.Check(momStrat,dfDloc)\n",
    "    # logL+=[dfDloc,retval]\n",
    "    return retval\n",
    "#     return always_buy(dfD)"
   ]
  },
  {
   "cell_type": "code",
   "execution_count": null,
   "id": "c99e3489-0ef2-4aff-8168-f084b4ab4f31",
   "metadata": {
    "id": "c99e3489-0ef2-4aff-8168-f084b4ab4f31"
   },
   "outputs": [],
   "source": [
    "@anvil.server.callable\n",
    "def check_exit_batch_s0_at_a_dot_edu(dfD,posf):\n",
    "    global momStrat,logL\n",
    "    logL+=[posf]\n",
    "    return posf\n",
    "    posloc=pd.DataFrame(posf)\n",
    "    dfDloc={}\n",
    "    for t in dfD.keys():\n",
    "        dfDloc[t]=pd.DataFrame(dfD[t])\n",
    "    posret=MomStrat.Exit(momStrat,dfDloc,posloc)\n",
    "    posr=posret.to_dict('records')\n",
    "    return posr"
   ]
  },
  {
   "cell_type": "code",
   "execution_count": null,
   "id": "4a3633dc-c7cc-470e-8920-11fd596a6e8a",
   "metadata": {
    "id": "4a3633dc-c7cc-470e-8920-11fd596a6e8a"
   },
   "outputs": [],
   "source": [
    "@anvil.server.callable\n",
    "def exit_predicate_s0_at_a_dot_edu(pos,dR):\n",
    "    return False\n",
    "    global momStrat,logL\n",
    "    df=pd.DataFrame(dR)\n",
    "    exit_met=momStrat.exit_predicate(pos,df)\n",
    "    return exit_met"
   ]
  },
  {
   "cell_type": "code",
   "execution_count": null,
   "id": "5c3fc48f",
   "metadata": {
    "id": "5c3fc48f"
   },
   "outputs": [],
   "source": [
    "@anvil.server.callable\n",
    "def get_tickers_s0_at_a_dot_edu():\n",
    "    return MY_TICKERS"
   ]
  },
  {
   "cell_type": "code",
   "execution_count": null,
   "id": "53c5783c",
   "metadata": {
    "id": "53c5783c",
    "tags": []
   },
   "outputs": [],
   "source": [
    "anvil.server.call('getRemStratErrors','s0_at_a_dot_edu')"
   ]
  }
 ],
 "metadata": {
  "colab": {
   "name": "remstrat.ipynb",
   "provenance": []
  },
  "kernelspec": {
   "display_name": "Python 3 (ipykernel)",
   "language": "python",
   "name": "python3"
  },
  "language_info": {
   "codemirror_mode": {
    "name": "ipython",
    "version": 3
   },
   "file_extension": ".py",
   "mimetype": "text/x-python",
   "name": "python",
   "nbconvert_exporter": "python",
   "pygments_lexer": "ipython3",
   "version": "3.8.12"
  }
 },
 "nbformat": 4,
 "nbformat_minor": 5
}
