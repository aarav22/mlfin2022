{
 "cells": [
  {
   "cell_type": "code",
   "execution_count": null,
   "id": "d7889ded-dd8c-4c73-aadd-687cf98ddbb0",
   "metadata": {},
   "outputs": [],
   "source": [
    "import import_ipynb\n",
    "import pandas as pd\n",
    "import numpy as np\n",
    "import torch\n",
    "from datetime import datetime\n",
    "from datetime import datetime as dt\n",
    "from torch.utils.data import Dataset\n",
    "# from tqdm.notebook import tqdm\n",
    "from sklearn.preprocessing import StandardScaler\n",
    "import pickle"
   ]
  },
  {
   "cell_type": "code",
   "execution_count": null,
   "id": "ab497b92-51d2-405a-b27a-19a5e7043a85",
   "metadata": {},
   "outputs": [],
   "source": [
    "class MomStrat():\n",
    "    def __init__(self,th=.00025):\n",
    "        self.logL=[]\n",
    "        self.th=th\n",
    "        self.model_type='rule_based'\n",
    "        self.data_cols=['Close','datetime']\n",
    "    def set_alt_data(self,alt_data_func,remote=False):\n",
    "        if remote: self.gdata=anvil.server.call(alt_data_func)['gdata']\n",
    "        else: self.gdata=alt_data_func()['gdata']\n",
    "    def check_entry_batch(self,dfD):\n",
    "        # return always_buy(dfD)\n",
    "        decisionsD={t:0 for t in dfD}\n",
    "        stopD={t:5 for t in dfD}\n",
    "        targetD={t:5 for t in dfD}\n",
    "        dataD={}\n",
    "        log_entry={}\n",
    "        for t in dfD.keys():\n",
    "            data=dfD[t]\n",
    "            if data.shape[0]>2:\n",
    "                r=np.log(data['Close']/data['Close'].shift(1)).dropna()\n",
    "                m=r.rolling(30).mean().values\n",
    "                if m[-1]>self.th: decisionsD[t]=1\n",
    "                elif m[-1]<-self.th: decisionsD[t]=-1\n",
    "                else: decisionsD[t]=0\n",
    "        return decisionsD,stopD,targetD\n",
    "    def check_exit_batch(self,dfD,posf):\n",
    "        def exit_fn(row):\n",
    "            return self.exit_predicate(row,dfD[row.ticker])\n",
    "        posf['to_exit']=posf.apply(exit_fn,axis=1).values\n",
    "        return posf\n",
    "    def exit_predicate(self,row,df):\n",
    "        return False\n",
    "        data=df\n",
    "        r=np.log(data['Close']/data['Close'].shift(1)).dropna()\n",
    "        m=r.rolling(20).mean().values\n",
    "        if row['quant']>0 and m[-1]<self.th/3: return True\n",
    "        elif row['quant']<0 and m[-1]>-self.th/3: return True\n",
    "        else: return False\n",
    "    def Check(strat,dfD):\n",
    "        return strat.check_entry_batch(dfD)\n",
    "    def Exit(strat,dfD,posf):\n",
    "        return strat.check_exit_batch(dfD,posf)"
   ]
  },
  {
   "cell_type": "code",
   "execution_count": null,
   "id": "60e90844-5b84-45c2-a37a-9d8741cc98ae",
   "metadata": {},
   "outputs": [],
   "source": [
    "def do_nothing(dfD):\n",
    "    empty={t:0 for t in dfD}\n",
    "    return empty,empty,empty\n",
    "def always_buy(dfD):\n",
    "    buy={t:1 for t in dfD}\n",
    "    empty={t:0 for t in dfD}\n",
    "    return buy,empty,empty\n",
    "def always_sell(dfD):\n",
    "    sell={t:-1 for t in dfD}\n",
    "    empty={t:0 for t in dfD}\n",
    "    return sell,empty,empty"
   ]
  }
 ],
 "metadata": {
  "kernelspec": {
   "display_name": "Python 3 (ipykernel)",
   "language": "python",
   "name": "python3"
  },
  "language_info": {
   "codemirror_mode": {
    "name": "ipython",
    "version": 3
   },
   "file_extension": ".py",
   "mimetype": "text/x-python",
   "name": "python",
   "nbconvert_exporter": "python",
   "pygments_lexer": "ipython3",
   "version": "3.8.12"
  }
 },
 "nbformat": 4,
 "nbformat_minor": 5
}
