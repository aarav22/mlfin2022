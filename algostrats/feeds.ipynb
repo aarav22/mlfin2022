{
 "cells": [
  {
   "cell_type": "code",
   "execution_count": 20,
   "id": "9090d4fd-a856-4c07-9546-d5bff8288c98",
   "metadata": {},
   "outputs": [],
   "source": [
    "import threading\n",
    "import multiprocessing\n",
    "from threading import Thread, current_thread, Event\n",
    "from multiprocessing import Process, current_process, Pool\n",
    "from multiprocessing.connection import Listener, Client\n",
    "from IPython import display\n",
    "import pandas as pd\n",
    "from datetime import datetime as dt\n",
    "from pandas.tseries.offsets import BDay, Day\n",
    "from dataclasses import dataclass, fields, asdict, replace\n",
    "import itertools\n",
    "import datetime\n",
    "import signal\n",
    "# from matplotlib import pyplot as plt"
   ]
  },
  {
   "cell_type": "code",
   "execution_count": null,
   "id": "181e7583-b7a4-4f42-8bc9-5a36830840ba",
   "metadata": {},
   "outputs": [],
   "source": [
    "import yfinance as yf\n",
    "import pandas_ta as ta\n",
    "import time, os, sys\n",
    "import numpy as np\n",
    "import import_ipynb\n",
    "import pickle\n",
    "# from tqdm.notebook import tqdm"
   ]
  },
  {
   "cell_type": "code",
   "execution_count": null,
   "id": "74cc7cbe-9efd-4682-9e54-5a78dc386036",
   "metadata": {},
   "outputs": [],
   "source": [
    "from featfuncs import feat_aug,add_addl_features_feed,add_ta_features_feed,add_sym_feature_feed"
   ]
  },
  {
   "cell_type": "code",
   "execution_count": null,
   "id": "ea0b41a3-1ddf-4266-a632-1dc9af56321b",
   "metadata": {},
   "outputs": [],
   "source": [
    "from india_calendar import IBDay"
   ]
  },
  {
   "cell_type": "code",
   "execution_count": null,
   "id": "bcfc0fbd-3476-4813-8acd-19a54a996989",
   "metadata": {},
   "outputs": [],
   "source": [
    "class BackFeed():\n",
    "    def __init__(self,tickers=['WIPRO.NS','TCS.NS'],nw=1,nd=0,delay=0):\n",
    "        todayS=dt.today().strftime(\"%d-%b-%Y\")\n",
    "        todayD=pd.to_datetime(todayS)\n",
    "        todayD=todayD-BDay(1)+BDay(1)\n",
    "        todayS=todayD.strftime(\"%d-%b-%Y\")\n",
    "        self.tickers=tickers\n",
    "        self.data={}\n",
    "        self.counter=0\n",
    "        self.delay=delay\n",
    "        self.dtD={}\n",
    "        self.ncounter={t:0 for t in self.tickers}\n",
    "        self.offsets={t:{} for t in self.tickers}\n",
    "        for t in self.tickers:\n",
    "            dfL=[]\n",
    "            try:\n",
    "                for d in range(nw,0,-1):\n",
    "                    if nd==0:\n",
    "                        df=yf.Ticker(t).history(period='1d',interval='1m')\n",
    "                        df['ticker']=t\n",
    "                        df['datetime']=df.index\n",
    "                        #df=add_indicators(df)\n",
    "                        dfL=[df]\n",
    "                        break\n",
    "                    # if nw==4: start=(todayD-BDay(nd*d-1)).strftime(\"%Y-%m-%d\")\n",
    "                    # else: start=(todayD-BDay(nd*d)).strftime(\"%Y-%m-%d\")\n",
    "                    start=(todayD-BDay(nd*d)).strftime(\"%Y-%m-%d\")\n",
    "                    end=(todayD-BDay(nd*(d-1))).strftime(\"%Y-%m-%d\")\n",
    "                    # print(start,end)\n",
    "                    df=yf.Ticker(t).history(start=start, end=end,interval='1m')\n",
    "                    #df=add_indicators(df)\n",
    "                    if df.shape[0]>450: \n",
    "                        # self.data[t]=df\n",
    "                        df=df.fillna(0)\n",
    "                        # self.dtD[t]=df.iloc[-1]['Date']\n",
    "                        df['Date']=df.index.strftime('%d-%b-%Y')\n",
    "                        df['ticker']=t\n",
    "                        df['datetime']=df.index\n",
    "                        dfL=dfL+[df]\n",
    "                self.data[t]=pd.concat(dfL,axis=0)\n",
    "                self.dtD[t]=self.data[t].iloc[0]['Date']\n",
    "            except:\n",
    "                pass\n",
    "        self.tickers=[t for t in self.data]\n",
    "        self.maxcount=max([self.data[t].shape[0] for t in self.tickers])\n",
    "        self.df=pd.concat([self.data[t] for t in self.tickers])\n",
    "        if self.df.loc[self.df['Date']==todayS].shape[0]>0:\n",
    "            self.df.drop(self.df.loc[self.df['Date']==todayS].index,inplace=True)\n",
    "        self.dates=self.df.Date.unique()[1:]\n",
    "    def init_counters(self,date1=None):\n",
    "        t0=self.tickers[0]\n",
    "        if date1==None: date1=self.data[t0]['Date'].unique()[1]\n",
    "        self.counter=self.offsets[t0][date1]\n",
    "        for t in self.tickers:\n",
    "            date1=self.data[t]['Date'].unique()[1]\n",
    "            self.ncounter[t]=self.offsets[t][date1]\n",
    "        self.dtD={t:self.get(t)['Date'] for t in self.tickers}\n",
    "    def step(self):\n",
    "        dtD_old=self.dtD\n",
    "        self.counter+=1\n",
    "        self.dtD={t:self.get(t)['Date'] for t in self.tickers}\n",
    "        for t in self.tickers:\n",
    "            if self.dtD[t]!=dtD_old[t]: \n",
    "                self.ncounter[t]=self.offsets[t][self.dtD[t]]\n",
    "            else: self.ncounter[t]+=1\n",
    "        time.sleep(self.delay)\n",
    "    def get(self,t):\n",
    "        if self.counter<self.data[t].shape[0]: idx=self.counter\n",
    "        else: idx=-1\n",
    "        return self.data[t].iloc[idx]\n",
    "    def getData(self,t):\n",
    "        if self.counter<self.data[t].shape[0]:\n",
    "            return self.data[t].iloc[0:self.counter+1]\n",
    "        else: return self.data[t]\n",
    "    def getBasket(self,client=None):\n",
    "        getfL=[self.get(t) for t in self.tickers]\n",
    "        dfL=[pd.DataFrame([getf.values],columns=getf.index) for getf in getfL]\n",
    "        return pd.concat(dfL,axis=0)\n",
    "    def check_done(self):\n",
    "        if self.counter==self.maxcount: return True\n",
    "        else: return False\n",
    "    def getN(self,t,d):\n",
    "        if self.ncounter[t]<self.ndata[t][d].shape[0]: idx=self.ncounter[t]\n",
    "        else: idx=-1\n",
    "        return self.ndata[t][d].iloc[idx]\n",
    "    def getDataN(self,t,d):\n",
    "        if self.ncounter[t]<self.ndata[t][d].shape[0]:\n",
    "            return self.ndata[t][d].iloc[0:self.ncounter[t]+1]\n",
    "        else: return self.ndata[t][d]"
   ]
  },
  {
   "cell_type": "code",
   "execution_count": null,
   "id": "c21024ae-22f2-46a4-8920-8e97e6c96cdd",
   "metadata": {},
   "outputs": [],
   "source": [
    "class LiveFeed():\n",
    "    def __init__(self,tickers=['WIPRO.NS','TCS.NS'],period='2d',interval='1m',delay=1):\n",
    "        self.tickers=tickers\n",
    "        self.data={}\n",
    "        self.period=period\n",
    "        self.interval=interval\n",
    "        self.delay=delay\n",
    "        self.counter=0\n",
    "        self.dtD={}\n",
    "        self.offsets={t:{} for t in self.tickers}\n",
    "        todayS=dt.today().strftime(\"%d-%b-%Y\")\n",
    "        self.todayS=todayS\n",
    "        todayD=pd.to_datetime(todayS)\n",
    "        self.todayD=todayD-IBDay(1)+IBDay(1)\n",
    "        self.step(init=True)\n",
    "    def init_counters(self):\n",
    "        t0=self.tickers[0]\n",
    "        date1=self.data[t0]['Date'].unique()[1]\n",
    "        self.counter=self.offsets[t0][date1]\n",
    "        self.dtD={t:self.get(t)['Date'] for t in self.tickers}\n",
    "    def step(self,init=False):\n",
    "        self.counter+=1\n",
    "        for t in self.tickers:\n",
    "            try:\n",
    "                # df=yf.Ticker(t).history(self.period,self.interval)\n",
    "                end=(self.todayD+IBDay(1)).strftime(\"%Y-%m-%d\")\n",
    "                start=(self.todayD-IBDay(1)).strftime(\"%Y-%m-%d\")\n",
    "                df=yf.Ticker(t).history(start=start, end=end,interval='1m')\n",
    "                df['Date']=df.index.strftime('%d-%b-%Y')\n",
    "                df['ticker']=t\n",
    "                df['datetime']=df.index\n",
    "                if df.shape[0]>100:\n",
    "                    df=df.fillna(0)\n",
    "                    self.data[t]=df\n",
    "                    self.dtD[t]=df.iloc[-1]['Date']\n",
    "            except:\n",
    "                pass\n",
    "        if init==True: \n",
    "            self.tickers=[t for t in self.data]\n",
    "            self.df=pd.concat([self.data[t] for t in self.tickers])\n",
    "            self.dates=self.df.Date.unique()[1:]\n",
    "        add_ta_features_feed(self)\n",
    "        add_sym_feature_feed(self,tickers=self.tickers,live=True)\n",
    "        if init==False: time.sleep(self.delay)\n",
    "    def getData(self,t):\n",
    "        return self.data[t]\n",
    "    def get(self,t):\n",
    "        return self.data[t].iloc[-1]\n",
    "    def getBasket(self):\n",
    "        getfL=[self.get(t) for t in self.tickers]\n",
    "        dfL=[pd.DataFrame([getf.values],columns=getf.index) for getf in getfL]\n",
    "        return pd.concat(dfL,axis=0)\n",
    "    def getDataN(self,t,d):\n",
    "        return self.ndata[t][d]\n",
    "    def getN(self,t,d):\n",
    "        return self.ndata[t][d].iloc[-1]\n",
    "    def check_done(self):\n",
    "        return False"
   ]
  },
  {
   "cell_type": "code",
   "execution_count": null,
   "id": "ba7b683c-3def-4186-b518-3befea12aead",
   "metadata": {},
   "outputs": [],
   "source": [
    "class DataFeed():\n",
    "    def __init__(self,tickers=['WIPRO.NS','TCS.NS'],\n",
    "                 datafile='./DataLocal/algo_fin_new/labeled_data_02-Mar-2022.csv',\n",
    "                dfgiven=False,df=None,delay=0):\n",
    "        self.tickers=tickers\n",
    "        self.data={}\n",
    "        self.counter=0\n",
    "        self.delay=delay\n",
    "        self.dtD={}\n",
    "        self.ncounter={t:0 for t in self.tickers}\n",
    "        self.offsets={t:{} for t in self.tickers}\n",
    "        if dfgiven==False: self.df=pd.read_csv(datafile)\n",
    "        else: self.df=df\n",
    "        self.df['datetime']=pd.to_datetime(self.df['Datetime'])\n",
    "        self.dates=df.Date.unique()[1:]\n",
    "        for t in self.tickers:\n",
    "            self.data[t]=self.df.loc[self.df['ticker']==t]\n",
    "            self.data[t].index=pd.to_datetime(self.data[t].datetime)\n",
    "        self.maxcount=min([self.data[t].shape[0] for t in self.tickers])\n",
    "    def init_counters(self,date1=None):\n",
    "        t0=self.tickers[0]\n",
    "        idx=1\n",
    "        if date1==None:\n",
    "            counter,idx=0,0\n",
    "            while counter==0:\n",
    "                idx+=1\n",
    "                date1=self.data[t0]['Date'].unique()[idx]\n",
    "                counter=self.offsets[t0][date1]\n",
    "            self.counter=counter\n",
    "        else: self.counter=self.offsets[t0][date1]\n",
    "        for t in self.tickers:\n",
    "            date1=self.data[t]['Date'].unique()[1]\n",
    "            self.ncounter[t]=self.offsets[t][date1]\n",
    "        self.dtD={t:self.get(t)['Date'] for t in self.tickers}\n",
    "    def step(self):\n",
    "        dtD_old=self.dtD\n",
    "        self.counter+=1\n",
    "        self.dtD={t:self.get(t)['Date'] for t in self.tickers}\n",
    "        for t in self.tickers:\n",
    "            if self.dtD[t]!=dtD_old[t]: \n",
    "                self.ncounter[t]=self.offsets[t][self.dtD[t]]\n",
    "            else: self.ncounter[t]+=1\n",
    "        time.sleep(self.delay)\n",
    "    def get(self,t):\n",
    "        if self.counter<self.data[t].shape[0]: idx=self.counter\n",
    "        else: idx=-1\n",
    "        return self.data[t].iloc[idx]\n",
    "    def getData(self,t):\n",
    "        if self.counter<self.data[t].shape[0]:\n",
    "            return self.data[t].iloc[0:self.counter+1]\n",
    "        else: return self.data[t]\n",
    "    def getBasket(self,client=None):\n",
    "        getfL=[self.get(t) for t in self.tickers]\n",
    "        dfL=[pd.DataFrame([getf.values],columns=getf.index) for getf in getfL]\n",
    "        return pd.concat(dfL,axis=0)\n",
    "    def check_done(self):\n",
    "        if self.counter==self.maxcount: return True\n",
    "        else: return False\n",
    "    def getN(self,t,d):\n",
    "        if self.ncounter[t]<self.ndata[t][d].shape[0]: idx=self.ncounter[t]\n",
    "        else: idx=-1\n",
    "        return self.ndata[t][d].iloc[idx]\n",
    "    def getDataN(self,t,d):\n",
    "        if self.ncounter[t]<self.ndata[t][d].shape[0]:\n",
    "            return self.ndata[t][d].iloc[0:self.ncounter[t]+1]\n",
    "        else: return self.ndata[t][d]"
   ]
  },
  {
   "cell_type": "code",
   "execution_count": null,
   "id": "20883efe-e6db-480a-aaf8-a0fd69c4b3fd",
   "metadata": {},
   "outputs": [],
   "source": [
    "def clean_feed(feed,ticker):\n",
    "    feed_dates=feed.data[ticker].Date.unique()\n",
    "    if feed.data[ticker].loc[feed.data[ticker]['Date']==feed_dates[-1]].shape[0]<10:\n",
    "        feed.data[ticker]=feed.data[ticker].drop(\n",
    "                feed.data[ticker].index[-1])"
   ]
  },
  {
   "cell_type": "code",
   "execution_count": null,
   "id": "fd628ed1-e5f2-439c-9096-7352343f86cd",
   "metadata": {},
   "outputs": [],
   "source": [
    "def clean_feed_tickers(feed,limit=100):\n",
    "    dropticks=[]\n",
    "    for t in feed.tickers:\n",
    "        dfa=feed.data[t]\n",
    "        for d in dfa['Date'].unique():\n",
    "            pdt=pd.to_datetime(d)\n",
    "            pdtp=pdt-BDay(1)\n",
    "            df=dfa.loc[(pd.to_datetime(dfa['Date'])<=pdt)&\n",
    "                       (pd.to_datetime(dfa['Date'])>=pdtp)]\n",
    "            if len(df)<limit: dropticks+=[t]\n",
    "    feed.tickers=[t for t in feed.tickers if t not in dropticks]\n",
    "    return feed"
   ]
  },
  {
   "cell_type": "markdown",
   "id": "74b0d0b2-182a-4e94-bf81-99d9bf9f732f",
   "metadata": {},
   "source": [
    "Debugging"
   ]
  },
  {
   "cell_type": "raw",
   "id": "140d717f-1ce6-4ee9-9d1a-61b02dbd62fa",
   "metadata": {},
   "source": [
    "import pickle"
   ]
  },
  {
   "cell_type": "raw",
   "id": "59b71409-f023-4827-b62b-289df0998c3b",
   "metadata": {},
   "source": [
    "with open('../temp_data/feed_sim_cloud_19_Aug.pickle','rb') as f: feed_sim=pickle.load(f)"
   ]
  },
  {
   "cell_type": "raw",
   "id": "87fb5f8e-6df0-428b-ad75-c0cea3b44985",
   "metadata": {
    "tags": []
   },
   "source": [
    "def init_counters(self,date1=None):\n",
    "    t0=self.tickers[0]\n",
    "    idx=1\n",
    "    if date1==None:\n",
    "        counter,idx=0,0\n",
    "        while counter==0:\n",
    "            idx+=1\n",
    "            date1=self.data[t0]['Date'].unique()[idx]\n",
    "            counter=self.offsets[t0][date1]\n",
    "        self.counter=counter\n",
    "    else: self.counter=self.offsets[t0][date1]\n",
    "    for t in self.tickers:\n",
    "        date1=self.data[t]['Date'].unique()[1]\n",
    "        self.ncounter[t]=self.offsets[t][date1]\n",
    "    self.dtD={t:self.get(t)['Date'] for t in self.tickers}"
   ]
  },
  {
   "cell_type": "raw",
   "id": "31f9555b-e00f-4fe6-bfee-8d21c77aca76",
   "metadata": {},
   "source": [
    "init_counters(feed_sim)"
   ]
  },
  {
   "cell_type": "raw",
   "id": "7334e08f-1dd5-4d17-b9e8-12f86916c8de",
   "metadata": {},
   "source": [
    "feed_sim.counter"
   ]
  },
  {
   "cell_type": "raw",
   "id": "783b3866-65bf-4706-85c5-40e40c7a6ab0",
   "metadata": {},
   "source": [
    "import ipynb\n",
    "from ipynb.fs.defs.scanner import compute_gaps"
   ]
  },
  {
   "cell_type": "raw",
   "id": "74c99531-b4bb-44fb-ac67-d82dcafe2c5b",
   "metadata": {},
   "source": [
    "tickers=['TCS.NS','KALYANI.NS']"
   ]
  },
  {
   "cell_type": "raw",
   "id": "d060a03c-7c19-40c4-971c-b03fbdf61e6a",
   "metadata": {},
   "source": [
    "feed=LiveFeed(tickers=tickers)"
   ]
  },
  {
   "cell_type": "raw",
   "id": "508674a2-ff3a-4af2-9acc-76a8411284ec",
   "metadata": {},
   "source": [
    "backFeed=BackFeed(tickers=tickers,nw=4,nd=5)"
   ]
  },
  {
   "cell_type": "raw",
   "id": "48ce61df-8bbf-4103-a366-564884d77266",
   "metadata": {},
   "source": [
    "backFeed.tickers"
   ]
  },
  {
   "cell_type": "raw",
   "id": "c47e6cb3-3e18-44bf-ac2b-954e462d9ef1",
   "metadata": {},
   "source": [
    "feed.tickers"
   ]
  },
  {
   "cell_type": "raw",
   "id": "f55b6bb7-ffe9-4663-b86e-5758b30a69c7",
   "metadata": {},
   "source": [
    "capvol100=pd.read_csv('../temp_data/capvol100.csv')"
   ]
  },
  {
   "cell_type": "raw",
   "id": "229fa08b-f26b-4e6e-bfd5-9f436204d962",
   "metadata": {},
   "source": [
    "capvol100.to_csv('./capvol100.csv',index=False)"
   ]
  },
  {
   "cell_type": "raw",
   "id": "5517eaa2-6304-4e9d-8e95-a1ad608032e7",
   "metadata": {},
   "source": [
    "tickers=list(capvol100['ticker'].values)"
   ]
  },
  {
   "cell_type": "raw",
   "id": "8f16669b-6743-4936-81e0-dfad9689adf5",
   "metadata": {
    "tags": []
   },
   "source": [
    "feed=LiveFeed(tickers=tickers)"
   ]
  },
  {
   "cell_type": "raw",
   "id": "0b97bd06-7f55-43ae-95d2-4a1454a358fd",
   "metadata": {},
   "source": [
    "len(feed.tickers)"
   ]
  },
  {
   "cell_type": "raw",
   "id": "a5ec3157-bdb0-4921-9dda-abe9bdce69bb",
   "metadata": {},
   "source": [
    "backFeed=BackFeed(tickers=tickers,nw=2,nd=5)"
   ]
  },
  {
   "cell_type": "raw",
   "id": "a631bc2b-d944-4baa-aa8f-bd3274216ec7",
   "metadata": {},
   "source": [
    "len(backFeed.tickers)"
   ]
  },
  {
   "cell_type": "raw",
   "id": "5baaf3b3-852e-4024-8cbc-f0932bb62ae0",
   "metadata": {},
   "source": [
    "commontickers=[t for t in backFeed.tickers if t in feed.tickers]"
   ]
  },
  {
   "cell_type": "raw",
   "id": "fce829eb-addf-418e-813a-9f18429c5a68",
   "metadata": {},
   "source": [
    "len(commontickers)"
   ]
  },
  {
   "cell_type": "raw",
   "id": "c8bf6baf-a9ff-4bbf-b04e-5ca38aa0f208",
   "metadata": {},
   "source": [
    "capvol100.loc[capvol100['ticker']=='KALYANI.NS']"
   ]
  },
  {
   "cell_type": "raw",
   "id": "af000e87-1a08-49de-b070-997f69ca6d97",
   "metadata": {},
   "source": [
    "capvol100.sort_values(['cap','vol']).iloc[0:20]"
   ]
  },
  {
   "cell_type": "code",
   "execution_count": null,
   "id": "a601ba2a-ca4b-417f-bf36-f7209961093a",
   "metadata": {},
   "outputs": [],
   "source": []
  }
 ],
 "metadata": {
  "kernelspec": {
   "display_name": "Python 3 (ipykernel)",
   "language": "python",
   "name": "python3"
  },
  "language_info": {
   "codemirror_mode": {
    "name": "ipython",
    "version": 3
   },
   "file_extension": ".py",
   "mimetype": "text/x-python",
   "name": "python",
   "nbconvert_exporter": "python",
   "pygments_lexer": "ipython3",
   "version": "3.8.12"
  }
 },
 "nbformat": 4,
 "nbformat_minor": 5
}
