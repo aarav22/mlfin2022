{
 "cells": [
  {
   "cell_type": "code",
   "execution_count": null,
   "id": "93c8d808-434f-4d9f-ab78-6efa47a1906a",
   "metadata": {
    "id": "0e656fa2-428a-47ce-91de-6430f202c466"
   },
   "outputs": [],
   "source": [
    "import pandas as pd\n",
    "import numpy as np\n",
    "import anvil.server"
   ]
  },
  {
   "cell_type": "code",
   "execution_count": null,
   "id": "267323f6-2f0d-4022-aebe-32bdf0659d04",
   "metadata": {},
   "outputs": [],
   "source": [
    "import rpyc\n",
    "import pickle"
   ]
  },
  {
   "cell_type": "code",
   "execution_count": null,
   "id": "f4c25b95-eb94-43c5-9537-1af1dede1b22",
   "metadata": {
    "id": "09d59684-93c1-4ba3-9ff5-f7af67b659ee"
   },
   "outputs": [],
   "source": [
    "class FeedEnv():\n",
    "    def __init__(self,feed,ticker,target=.01,stoploss=.005,txcost=.001,\n",
    "                 seq_len=50,verbose=True):\n",
    "        self.feed=feed\n",
    "        self.t=target\n",
    "        self.stoploss=stoploss\n",
    "        self.txcost=txcost\n",
    "        self.ticker=ticker\n",
    "        self.verbose=verbose\n",
    "        self.state_type='dict'\n",
    "        self.set_state_shape()\n",
    "        self.set_state_type()\n",
    "        self.seq_len=seq_len\n",
    "        self.state_cols=self.feed.data[self.ticker].columns\n",
    "        self.reset()\n",
    "    \n",
    "    def set_state_cols(self,cols):\n",
    "        self.state_cols=cols\n",
    "    \n",
    "    def set_state_type(self,state_type='dict'):\n",
    "        self.state_type=state_type\n",
    "    \n",
    "    def set_state_shape(self,state_shape='seq'):\n",
    "        self.state_shape=state_shape\n",
    "    \n",
    "    def set_date(self,date):\n",
    "        self.date=date\n",
    "        # self.state_cols=self.feed.getDataN(self.ticker,self.date).columns\n",
    "        df=self.feed.ndata[self.ticker][date]\n",
    "        # self.mv=df.iloc[self.feed.offsets[self.ticker][date]]['Open_n']\n",
    "        self.r=df['Close_n'].values[self.feed.offsets[self.ticker][date]:]\n",
    "        self.end=df.shape[0]-self.feed.offsets[self.ticker][self.date]\n",
    "        self.time=0\n",
    "        # env.done=False\n",
    "        \n",
    "    def set_episode(self,episode):\n",
    "        self.episode=episode\n",
    "        \n",
    "    def thresh(self,x,pos):\n",
    "        # x=current_price,pos=position_taken(+-)\n",
    "        if pos>0:\n",
    "            if x>pos+self.t*pos or x<pos-self.l*pos: return True\n",
    "            else: return False\n",
    "        elif pos<0:\n",
    "            if x<abs(pos)-self.t*abs(pos) or x>abs(pos)+self.l*abs(pos): return True\n",
    "            else: return False\n",
    "    \n",
    "    def partial_thresh(self,x,pos):\n",
    "        #x=current_price,pos=position_taken(+-)\n",
    "        if pos>0:\n",
    "            if x>pos+self.t*pos/2: return 1\n",
    "            else: return 0\n",
    "        elif pos<0:\n",
    "            if x<abs(pos)-self.t*abs(pos)/2: return 1\n",
    "            else: return 0\n",
    "    \n",
    "    def get_state(self):\n",
    "        if self.state_type=='dict':\n",
    "            if self.state_shape=='seq':\n",
    "                return {self.ticker:self.feed.getDataN(self.ticker,self.date)[self.state_cols]}\n",
    "            elif self.state_shape=='flat':\n",
    "                return {self.ticker:self.feed.getDataN(self.ticker,self.date).iloc[-1][self.state_cols]}\n",
    "        elif self.state_type=='frame':\n",
    "            if self.state_shape=='seq':\n",
    "                return (self.feed.getDataN(self.ticker,self.date)\n",
    "                        [self.state_cols]).to_numpy()[-self.seq_len:,:]\n",
    "            elif self.state_shape=='flat':\n",
    "                return (self.feed.getDataN(self.ticker,self.date)[self.state_cols]).to_numpy()[-1,:]\n",
    "    \n",
    "    def reset(self):\n",
    "        self.l=self.stoploss\n",
    "        self.sl=self.stoploss\n",
    "        self.time=0\n",
    "        self.tot=0\n",
    "        self.done=False\n",
    "\n",
    "    def step(self,action):\n",
    "        if action==0: \n",
    "            ret=0.0\n",
    "            if self.time+1==self.end: self.done=True\n",
    "            else: \n",
    "                self.feed.step()\n",
    "                self.time+=1\n",
    "            if self.verbose: return self.get_state(),ret,self.done,'no action'\n",
    "            else:  return self.get_state(),ret,self.done\n",
    "        else: \n",
    "            r=self.r\n",
    "            pos=action*r[self.time]\n",
    "            exit_type=self.episode.exit_episode(self,pos)\n",
    "            if pos>0: ret=100*(r[self.time]-pos-r[self.time]*self.txcost)/pos\n",
    "            elif pos<0: ret=100*(abs(pos)-r[self.time]-r[self.time]*self.txcost)/abs(pos)\n",
    "            # ret=ret*100/self.mv\n",
    "            self.l=self.sl\n",
    "            if self.time+1==self.end: self.done=True\n",
    "            else:\n",
    "                self.time+=1\n",
    "                self.feed.step()\n",
    "            if self.verbose: return self.get_state(),ret,self.done,exit_type\n",
    "            else:  return self.get_state(),ret,self.done"
   ]
  },
  {
   "cell_type": "code",
   "execution_count": 1,
   "id": "82531e57-cae6-4f39-b582-68f939e2ebee",
   "metadata": {},
   "outputs": [],
   "source": [
    "class Episode():\n",
    "    def __init__(self,env,policy=None,model_type='none',remote=False,rpcname=None,\n",
    "                 loc_exit=True,rem_exit=False):\n",
    "        self.env=env\n",
    "        self.policy=policy\n",
    "        if model_type=='none':self.rl_type=policy.model_type\n",
    "        else: self.rl_type=model_type\n",
    "        self.remote=remote\n",
    "        self.rpcname=rpcname\n",
    "        self.loc_exit=loc_exit\n",
    "        self.rem_exit=rem_exit\n",
    "        self.debug=[]\n",
    "    def run_episode(self):\n",
    "        self.env.time=0\n",
    "        env=self.env\n",
    "        if self.rl_type=='meta_rl' and env.state_type=='dict':\n",
    "            t=self.env.ticker\n",
    "            state={t:self.policy.get_meta_state(self.env.get_state()[t],t,0,0,self.env.done)}\n",
    "        elif env.state_type=='dict':\n",
    "            state=self.env.get_state()\n",
    "        elif env.state_type=='frame':\n",
    "            state={env.ticker:self.env.get_state()}\n",
    "        self.actionL=[]  \n",
    "        self.rewardL=[]\n",
    "        if self.rl_type=='meta_rl': self.policy.reset_hidden()\n",
    "        tot=0.0\n",
    "        done=False\n",
    "        while done==False:\n",
    "            if self.remote==True: \n",
    "                action=self.remote_check_entry_batch(state,self.rpcname)[0][self.env.ticker]\n",
    "            else: action=self.policy.check_entry_batch(state)[0][self.env.ticker]\n",
    "            if action!=0: self.actionL+=[(action,self.env.time)]\n",
    "            self.debug+=[state]\n",
    "            state,rew,done,exit_type=self.env.step(action)\n",
    "            if rew!=0.0: self.rewardL+=[(rew,self.env.time)]\n",
    "            if env.state_type=='frame':state={env.ticker:self.env.get_state()}\n",
    "            elif self.rl_type=='meta_rl' and env.state_type=='dict':\n",
    "                t=self.env.ticker\n",
    "                state={t:self.policy.get_meta_state(self.env.get_state()[t],t,action,rew,self.env.done)}\n",
    "            if action!=0:\n",
    "                tot+=rew\n",
    "                # print(rew)\n",
    "        return tot,self.rewardL,self.actionL\n",
    "    \n",
    "    def exit_episode(self,env,pos):\n",
    "        exit_type='none'\n",
    "        env=self.env\n",
    "        while True:\n",
    "            thresh_met=env.thresh(env.r[env.time],pos)\n",
    "            if self.remote: \n",
    "                if self.rem_exit==False: exit_met=False\n",
    "                else:\n",
    "                    exit_met=self.remote_exit_predicate({'quant':pos},\n",
    "                                                        env.get_state()[env.ticker],\n",
    "                                                        self.rpcname)\n",
    "                    # print(exit_met,env.time,env.ticker,pos)\n",
    "            elif self.loc_exit==False: \n",
    "                exit_met=False\n",
    "            else:\n",
    "                if env.state_type=='dict':\n",
    "                    exit_met=self.policy.exit_predicate({'quant':pos},env.get_state()[env.ticker])\n",
    "                elif env.state_type=='frame': \n",
    "                    exit_met=self.policy.exit_predicate({'quant':pos},env.get_state())\n",
    "            if thresh_met: \n",
    "                exit_type='thresh'\n",
    "                break\n",
    "            if exit_met:\n",
    "                exit_type='policy'\n",
    "                break\n",
    "            if env.time+1==env.end:\n",
    "                env.done=True\n",
    "                break\n",
    "            else: \n",
    "                env.feed.step()\n",
    "                env.time+=1\n",
    "                if env.time==env.end: env.done=True\n",
    "            # if env.partial_thresh(env.r[env.time],pos): env.l=-env.t/2\n",
    "        return exit_type\n",
    "\n",
    "    def remote_check_entry_batch(self,dfD,rpcname):\n",
    "        # c = rpyc.connect(\"localhost\", 18861)\n",
    "        dfR={}\n",
    "        for t in dfD.keys():\n",
    "            dfR[t]=dfD[t].to_dict('records')\n",
    "        return anvil.server.call('check_entry_batch_'+rpcname,dfR)\n",
    "        # return c.root.check_entry(pickle.dumps(dfR),rpcname)\n",
    "        \n",
    "    def remote_exit_predicate(self,posR,df,rpcname):\n",
    "        # c = rpyc.connect(\"localhost\", 18861)\n",
    "        # posR=posf.fillna(0).to_dict('records')\n",
    "        dR=df.to_dict('records')\n",
    "        exit_met=anvil.server.call('exit_predicate_'+rpcname,posR,dR)\n",
    "        return exit_met\n",
    "        # return c.root.check_entry(pickle.dumps(dfR),stratname)"
   ]
  },
  {
   "cell_type": "markdown",
   "id": "e0e961b3-c65b-4c2f-a337-570b5a80a56c",
   "metadata": {},
   "source": [
    "Develop"
   ]
  },
  {
   "cell_type": "markdown",
   "id": "8c117796-63d9-4dce-851a-37f84c8085bb",
   "metadata": {},
   "source": [
    "import import_ipynb"
   ]
  },
  {
   "cell_type": "markdown",
   "id": "e5733dcc-e212-4e0b-bbd6-199d85633469",
   "metadata": {},
   "source": [
    "from feeds import BackFeed,clean_feed"
   ]
  },
  {
   "cell_type": "markdown",
   "id": "c7272e71-0de8-426a-876c-f91be673d968",
   "metadata": {},
   "source": [
    "from featfuncs import add_addl_features_feed,add_sym_feature_feed"
   ]
  },
  {
   "cell_type": "markdown",
   "id": "0324bd5f-fa90-4f9a-80f7-992298b5c5e1",
   "metadata": {},
   "source": [
    "tickers=['TCS.NS']"
   ]
  },
  {
   "cell_type": "markdown",
   "id": "e58742b9-6508-4a14-9f76-26a54ba6dd42",
   "metadata": {},
   "source": [
    "feed=BackFeed(tickers=tickers,nw=1,nd=3,delay=0)"
   ]
  },
  {
   "cell_type": "markdown",
   "id": "24754e8f-9328-4fd8-9dba-2f3b7e5970eb",
   "metadata": {},
   "source": [
    "add_addl_features_feed(feed,tickers=tickers)\n",
    "add_sym_feature_feed(feed,tickers)"
   ]
  },
  {
   "cell_type": "markdown",
   "id": "4d1e8544-c8b2-4178-89a4-43277db3faa6",
   "metadata": {},
   "source": [
    "data_cols=['Open_n','High_n','Low_n','Close_n']+['SMA_10', 'SMA_20',\n",
    "       'VOL_SMA_20','RSI_14','BBL_5_2.0','BBM_5_2.0','BBU_5_2.0',\n",
    "       'BBB_5_2.0', 'BBP_5_2.0','MACD_12_26_9','MACDh_12_26_9','MACDs_12_26_9']+['sym']"
   ]
  },
  {
   "cell_type": "markdown",
   "id": "ef3f8522-c1d8-44ec-8eef-a6d4e5189ac1",
   "metadata": {},
   "source": [
    "mom_cols=['Close','datetime']"
   ]
  },
  {
   "cell_type": "markdown",
   "id": "4f9b3cba-4413-4c1a-a314-0e42d14759ce",
   "metadata": {},
   "source": [
    "clean_feed(feed,tickers[0])\n",
    "env=FeedEnv(feed,ticker=tickers[0])\n",
    "env.set_state_type('dict')\n",
    "env.set_state_cols(mom_cols)\n",
    "# env.set_state_cols(data_cols)\n",
    "episode=Episode(env,model_type='ml',remote=True)\n",
    "env.set_episode(episode)"
   ]
  },
  {
   "cell_type": "markdown",
   "id": "66d6f9a6-fd58-42ab-92f2-8d167344b9e4",
   "metadata": {},
   "source": [
    "date=feed.data[tickers[0]].Date.unique()[1]"
   ]
  },
  {
   "cell_type": "markdown",
   "id": "1eb6f8c6-3146-4ed7-a621-477a7a587b29",
   "metadata": {},
   "source": [
    "env.set_date(date=date)"
   ]
  },
  {
   "cell_type": "markdown",
   "id": "0dfd864c-1913-4c06-b25b-f9fdd6bc73da",
   "metadata": {},
   "source": [
    "feed.init_counters(date)"
   ]
  },
  {
   "cell_type": "markdown",
   "id": "de612167-b78a-46ef-80d0-c947c705d834",
   "metadata": {},
   "source": [
    "anvil.server.connect(\"STKYCIXUMGFV2CURGMCMOFUV-MBK5ZXFC4MCKYKOE\")"
   ]
  },
  {
   "cell_type": "markdown",
   "id": "fd3f68c2-dff7-41ab-8e08-7e589e8af2d7",
   "metadata": {},
   "source": [
    "tot,rews,acts=episode.run_episode(rpcname='mom1')"
   ]
  },
  {
   "cell_type": "markdown",
   "id": "58964f4d-f171-489e-8c69-e31f103002f5",
   "metadata": {},
   "source": [
    "tot,rews,acts"
   ]
  },
  {
   "cell_type": "markdown",
   "id": "e6a5596e-e327-4b8f-b462-bccd08aa3a26",
   "metadata": {},
   "source": [
    "import ipynb\n",
    "from ipynb.fs.defs.mlstrats import MLStrat,ModelConfig"
   ]
  },
  {
   "cell_type": "markdown",
   "id": "0902c076-5a51-409b-b0a2-d686a79f6652",
   "metadata": {},
   "source": [
    "mlStrat=MLStrat()\n",
    "mlStrat.style='seq'"
   ]
  },
  {
   "cell_type": "markdown",
   "id": "8141993e-2fdb-49c8-aaad-6dc7a0b1d1ca",
   "metadata": {},
   "source": [
    "clean_feed(feed,tickers[0])\n",
    "env1=FeedEnv(feed,ticker=tickers[0])\n",
    "env1.set_state_type('dict')\n",
    "env1.set_state_cols(data_cols)\n",
    "episode1=Episode(env1,policy=mlStrat,remote=False)\n",
    "env1.set_episode(episode1)"
   ]
  },
  {
   "cell_type": "markdown",
   "id": "6ff21d85-909b-40bd-a94d-cce6af37da4a",
   "metadata": {},
   "source": [
    "date=feed.data[tickers[0]].Date.unique()[1]"
   ]
  },
  {
   "cell_type": "markdown",
   "id": "d78f9902-a5c3-44da-9633-fb8107aaafc7",
   "metadata": {},
   "source": [
    "env1.set_date(date=date)\n",
    "feed.init_counters(date)"
   ]
  },
  {
   "cell_type": "markdown",
   "id": "aa5c58d7-613f-4432-9ff8-76aac5bcecf8",
   "metadata": {},
   "source": [
    "tot1,rews1,acts1=episode1.run_episode()"
   ]
  },
  {
   "cell_type": "markdown",
   "id": "dc750b9d-d9b6-4538-abd6-0a11eb1d0cb8",
   "metadata": {},
   "source": [
    "tot1,rews1,acts1"
   ]
  },
  {
   "cell_type": "markdown",
   "id": "df12dc9f-4e92-4480-8499-c0a8ccd97502",
   "metadata": {},
   "source": [
    "df=feed.getDataN('TCS.NS',date)"
   ]
  },
  {
   "cell_type": "markdown",
   "id": "4391c05a-a1df-4642-9246-51e3a124081b",
   "metadata": {},
   "source": [
    "dfD={'TCS.NS':df[['Close']]}"
   ]
  },
  {
   "cell_type": "markdown",
   "id": "5f41c75f-f56b-4506-9286-10e87b489d56",
   "metadata": {},
   "source": [
    "dfR={'TCS.NS':dfD['TCS.NS'].to_dict('records')}"
   ]
  },
  {
   "cell_type": "markdown",
   "id": "5cae6b5f-8c3f-4ff8-b349-7da38f41ead4",
   "metadata": {
    "tags": []
   },
   "source": [
    "dfR"
   ]
  },
  {
   "cell_type": "markdown",
   "id": "7959be52-cc2d-4f12-842b-ce641043cfaf",
   "metadata": {},
   "source": [
    "anvil.server.call('check_entry_batch_mom1',dfR)"
   ]
  },
  {
   "cell_type": "markdown",
   "id": "0cfd67bf-0fc8-4bf9-b9bc-a217e3f38bad",
   "metadata": {},
   "source": [
    "episode.remote_check_entry_batch(dfD,'mom1')"
   ]
  },
  {
   "cell_type": "markdown",
   "id": "5df158cb-8ab1-4ed5-9965-e7a1fec4aa1d",
   "metadata": {},
   "source": []
  },
  {
   "cell_type": "markdown",
   "id": "c841b4ae-64c7-4924-9f1c-f1d2c9fbd880",
   "metadata": {},
   "source": [
    "from ipynb.fs.defs.rulestrats import MomStrat"
   ]
  },
  {
   "cell_type": "markdown",
   "id": "33c672df-87f5-4196-8a76-f0186bcad2ed",
   "metadata": {},
   "source": [
    "ms=MomStrat()"
   ]
  },
  {
   "cell_type": "markdown",
   "id": "7c94c15d-f5a0-4c75-84cb-f4a5d95e6041",
   "metadata": {},
   "source": [
    "clean_feed(feed,tickers[0])\n",
    "env2=FeedEnv(feed,ticker=tickers[0])\n",
    "env2.set_state_type('dict')\n",
    "env2.set_state_cols(mom_cols)\n",
    "episode2=Episode(env2,policy=ms,remote=False)\n",
    "env2.set_episode(episode2)"
   ]
  },
  {
   "cell_type": "markdown",
   "id": "9ec64b00-1f38-4578-913b-399e1743d7b9",
   "metadata": {},
   "source": [
    "date=feed.data[tickers[0]].Date.unique()[1]"
   ]
  },
  {
   "cell_type": "markdown",
   "id": "cf735cf7-4a4d-4098-8671-f0c9a46d103b",
   "metadata": {},
   "source": [
    "env2.set_date(date=date)\n",
    "feed.init_counters(date)"
   ]
  },
  {
   "cell_type": "markdown",
   "id": "1b8c2614-ed2c-4a9a-8044-64f1b0eda8d9",
   "metadata": {},
   "source": [
    "tot2,rews2,acts2=episode2.run_episode()"
   ]
  },
  {
   "cell_type": "markdown",
   "id": "61aeca94-4aae-42be-858e-cea4bddf2294",
   "metadata": {},
   "source": [
    "tot2,rews2,acts2"
   ]
  },
  {
   "cell_type": "markdown",
   "id": "1cddb98f-1959-4444-bbc4-6a87afe5a7cb",
   "metadata": {},
   "source": [
    "env2.get_state()"
   ]
  },
  {
   "cell_type": "markdown",
   "id": "a69141f1-048f-461c-b859-2b4ddc3e712c",
   "metadata": {},
   "source": []
  }
 ],
 "metadata": {
  "kernelspec": {
   "display_name": "Python 3 (ipykernel)",
   "language": "python",
   "name": "python3"
  },
  "language_info": {
   "codemirror_mode": {
    "name": "ipython",
    "version": 3
   },
   "file_extension": ".py",
   "mimetype": "text/x-python",
   "name": "python",
   "nbconvert_exporter": "python",
   "pygments_lexer": "ipython3",
   "version": "3.8.12"
  }
 },
 "nbformat": 4,
 "nbformat_minor": 5
}
